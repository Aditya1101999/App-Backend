{
 "cells": [
  {
   "cell_type": "code",
   "execution_count": 19,
   "metadata": {
    "tags": []
   },
   "outputs": [],
   "source": [
    "import numpy as np\n",
    "import pandas as pd\n",
    "import matplotlib.pyplot as plt\n",
    "%matplotlib inline\n",
    "from sklearn.cluster import KMeans\n",
    "from sklearn.metrics  import silhouette_score\n",
    "from sklearn.preprocessing import StandardScaler\n",
    "import warnings\n",
    "warnings.filterwarnings('ignore')"
   ]
  },
  {
   "cell_type": "code",
   "execution_count": 20,
   "metadata": {
    "tags": []
   },
   "outputs": [
    {
     "data": {
      "text/html": [
       "<div>\n",
       "<style scoped>\n",
       "    .dataframe tbody tr th:only-of-type {\n",
       "        vertical-align: middle;\n",
       "    }\n",
       "\n",
       "    .dataframe tbody tr th {\n",
       "        vertical-align: top;\n",
       "    }\n",
       "\n",
       "    .dataframe thead th {\n",
       "        text-align: right;\n",
       "    }\n",
       "</style>\n",
       "<table border=\"1\" class=\"dataframe\">\n",
       "  <thead>\n",
       "    <tr style=\"text-align: right;\">\n",
       "      <th></th>\n",
       "      <th>brand</th>\n",
       "      <th>laptop_name</th>\n",
       "      <th>display_size</th>\n",
       "      <th>processor_type</th>\n",
       "      <th>graphics_card</th>\n",
       "      <th>disk_space</th>\n",
       "      <th>discount_price</th>\n",
       "      <th>old_price</th>\n",
       "      <th>ratings_5max</th>\n",
       "    </tr>\n",
       "  </thead>\n",
       "  <tbody>\n",
       "    <tr>\n",
       "      <th>0</th>\n",
       "      <td>HP</td>\n",
       "      <td>Notebook 14-df0008nx</td>\n",
       "      <td>14.0</td>\n",
       "      <td>Intel Celeron N4000</td>\n",
       "      <td>Intel HD Graphics 600</td>\n",
       "      <td>64 GB (eMMC)</td>\n",
       "      <td>1259.0</td>\n",
       "      <td>1259.0</td>\n",
       "      <td>0 / 5</td>\n",
       "    </tr>\n",
       "    <tr>\n",
       "      <th>1</th>\n",
       "      <td>Lenovo</td>\n",
       "      <td>IdeaPad 330S-14IKB</td>\n",
       "      <td>14.0</td>\n",
       "      <td>Intel Core i5-8250U</td>\n",
       "      <td>Intel UHD Graphics 620</td>\n",
       "      <td>1 TB HDD</td>\n",
       "      <td>1849.0</td>\n",
       "      <td>2099.0</td>\n",
       "      <td>3.3 / 5</td>\n",
       "    </tr>\n",
       "    <tr>\n",
       "      <th>2</th>\n",
       "      <td>Huawei</td>\n",
       "      <td>MateBook D Volta</td>\n",
       "      <td>14.0</td>\n",
       "      <td>Intel Core i5-8250U</td>\n",
       "      <td>NVIDIA GeForce MX150 (2 GB)</td>\n",
       "      <td>256 GB SSD</td>\n",
       "      <td>2999.0</td>\n",
       "      <td>3799.0</td>\n",
       "      <td>0 / 5</td>\n",
       "    </tr>\n",
       "    <tr>\n",
       "      <th>3</th>\n",
       "      <td>Dell</td>\n",
       "      <td>Inspiron 15 3567</td>\n",
       "      <td>15.6</td>\n",
       "      <td>Intel Core i3-7020U</td>\n",
       "      <td>Intel HD Graphics 620</td>\n",
       "      <td>1 TB HDD</td>\n",
       "      <td>1849.0</td>\n",
       "      <td>1849.0</td>\n",
       "      <td>0 / 5</td>\n",
       "    </tr>\n",
       "    <tr>\n",
       "      <th>4</th>\n",
       "      <td>Asus</td>\n",
       "      <td>VivoBook 15 X510UR</td>\n",
       "      <td>15.6</td>\n",
       "      <td>Intel Core i7-8550U</td>\n",
       "      <td>NVIDIA GeForce 930MX (2 GB)</td>\n",
       "      <td>1 TB HDD</td>\n",
       "      <td>2499.0</td>\n",
       "      <td>3149.0</td>\n",
       "      <td>0 / 5</td>\n",
       "    </tr>\n",
       "    <tr>\n",
       "      <th>...</th>\n",
       "      <td>...</td>\n",
       "      <td>...</td>\n",
       "      <td>...</td>\n",
       "      <td>...</td>\n",
       "      <td>...</td>\n",
       "      <td>...</td>\n",
       "      <td>...</td>\n",
       "      <td>...</td>\n",
       "      <td>...</td>\n",
       "    </tr>\n",
       "    <tr>\n",
       "      <th>200</th>\n",
       "      <td>Lenovo</td>\n",
       "      <td>IdeaPad 320-15IKBRN</td>\n",
       "      <td>15.6</td>\n",
       "      <td>Intel Core i5-8250U</td>\n",
       "      <td>Intel GMA HD</td>\n",
       "      <td>1 TB HDD</td>\n",
       "      <td>2099.0</td>\n",
       "      <td>2099.0</td>\n",
       "      <td>3.8 / 5</td>\n",
       "    </tr>\n",
       "    <tr>\n",
       "      <th>201</th>\n",
       "      <td>Huawei</td>\n",
       "      <td>MateBook D</td>\n",
       "      <td>15.6</td>\n",
       "      <td>Intel Core i7-8550U</td>\n",
       "      <td>NVIDIA GeForce MX150 (2 GB)</td>\n",
       "      <td>128 GB SSD/1 TB HDD</td>\n",
       "      <td>3299.0</td>\n",
       "      <td>3299.0</td>\n",
       "      <td>4.0 / 5</td>\n",
       "    </tr>\n",
       "    <tr>\n",
       "      <th>202</th>\n",
       "      <td>Apple</td>\n",
       "      <td>MacBook Pro (Retina + Touch Bar)</td>\n",
       "      <td>15.4</td>\n",
       "      <td>Intel Core i7 6 Core</td>\n",
       "      <td>Radeon Pro 555X GDDR5 (4 GB)</td>\n",
       "      <td>256 GB SSD</td>\n",
       "      <td>10199.0</td>\n",
       "      <td>10199.0</td>\n",
       "      <td>0 / 5</td>\n",
       "    </tr>\n",
       "    <tr>\n",
       "      <th>203</th>\n",
       "      <td>Apple</td>\n",
       "      <td>MacBook Pro (Retina + Touch Bar)</td>\n",
       "      <td>15.4</td>\n",
       "      <td>Intel Core i7 6 Core</td>\n",
       "      <td>Radeon Pro 560X GDDR5 (4 GB)</td>\n",
       "      <td>512 GB SSD</td>\n",
       "      <td>11899.0</td>\n",
       "      <td>11899.0</td>\n",
       "      <td>4.4 / 5</td>\n",
       "    </tr>\n",
       "    <tr>\n",
       "      <th>204</th>\n",
       "      <td>Dell</td>\n",
       "      <td>Inspiron 15 3576</td>\n",
       "      <td>15.6</td>\n",
       "      <td>Intel Core i5-8250U</td>\n",
       "      <td>AMD Radeon 520 (2 GB)</td>\n",
       "      <td>1 TB HDD</td>\n",
       "      <td>2299.0</td>\n",
       "      <td>2299.0</td>\n",
       "      <td>0 / 5</td>\n",
       "    </tr>\n",
       "  </tbody>\n",
       "</table>\n",
       "<p>205 rows × 9 columns</p>\n",
       "</div>"
      ],
      "text/plain": [
       "      brand                       laptop_name  display_size  \\\n",
       "0        HP              Notebook 14-df0008nx          14.0   \n",
       "1    Lenovo                IdeaPad 330S-14IKB          14.0   \n",
       "2    Huawei                  MateBook D Volta          14.0   \n",
       "3      Dell                  Inspiron 15 3567          15.6   \n",
       "4      Asus                VivoBook 15 X510UR          15.6   \n",
       "..      ...                               ...           ...   \n",
       "200  Lenovo               IdeaPad 320-15IKBRN          15.6   \n",
       "201  Huawei                        MateBook D          15.6   \n",
       "202   Apple  MacBook Pro (Retina + Touch Bar)          15.4   \n",
       "203   Apple  MacBook Pro (Retina + Touch Bar)          15.4   \n",
       "204    Dell                  Inspiron 15 3576          15.6   \n",
       "\n",
       "            processor_type                  graphics_card  \\\n",
       "0      Intel Celeron N4000          Intel HD Graphics 600   \n",
       "1      Intel Core i5-8250U         Intel UHD Graphics 620   \n",
       "2      Intel Core i5-8250U    NVIDIA GeForce MX150 (2 GB)   \n",
       "3      Intel Core i3-7020U          Intel HD Graphics 620   \n",
       "4      Intel Core i7-8550U    NVIDIA GeForce 930MX (2 GB)   \n",
       "..                     ...                            ...   \n",
       "200    Intel Core i5-8250U                   Intel GMA HD   \n",
       "201    Intel Core i7-8550U    NVIDIA GeForce MX150 (2 GB)   \n",
       "202   Intel Core i7 6 Core   Radeon Pro 555X GDDR5 (4 GB)   \n",
       "203   Intel Core i7 6 Core   Radeon Pro 560X GDDR5 (4 GB)   \n",
       "204    Intel Core i5-8250U          AMD Radeon 520 (2 GB)   \n",
       "\n",
       "               disk_space  discount_price  old_price ratings_5max  \n",
       "0            64 GB (eMMC)          1259.0     1259.0        0 / 5  \n",
       "1                1 TB HDD          1849.0     2099.0      3.3 / 5  \n",
       "2              256 GB SSD          2999.0     3799.0        0 / 5  \n",
       "3                1 TB HDD          1849.0     1849.0        0 / 5  \n",
       "4                1 TB HDD          2499.0     3149.0        0 / 5  \n",
       "..                    ...             ...        ...          ...  \n",
       "200              1 TB HDD          2099.0     2099.0      3.8 / 5  \n",
       "201   128 GB SSD/1 TB HDD          3299.0     3299.0      4.0 / 5  \n",
       "202            256 GB SSD         10199.0    10199.0        0 / 5  \n",
       "203            512 GB SSD         11899.0    11899.0      4.4 / 5  \n",
       "204              1 TB HDD          2299.0     2299.0        0 / 5  \n",
       "\n",
       "[205 rows x 9 columns]"
      ]
     },
     "execution_count": 20,
     "metadata": {},
     "output_type": "execute_result"
    }
   ],
   "source": [
    "df = pd.read_csv(\"laptops.csv\")\n",
    "df"
   ]
  },
  {
   "cell_type": "markdown",
   "metadata": {},
   "source": [
    "## Data Preprocessing"
   ]
  },
  {
   "cell_type": "code",
   "execution_count": 21,
   "metadata": {
    "tags": []
   },
   "outputs": [
    {
     "data": {
      "text/plain": [
       "brand             0\n",
       "laptop_name       1\n",
       "display_size      0\n",
       "processor_type    0\n",
       "graphics_card     0\n",
       "disk_space        0\n",
       "discount_price    0\n",
       "old_price         0\n",
       "ratings_5max      0\n",
       "dtype: int64"
      ]
     },
     "execution_count": 21,
     "metadata": {},
     "output_type": "execute_result"
    }
   ],
   "source": [
    "df.isnull().sum()"
   ]
  },
  {
   "cell_type": "markdown",
   "metadata": {},
   "source": [
    "Dropping the null values in the dataset as there is only one null value in whole."
   ]
  },
  {
   "cell_type": "code",
   "execution_count": 22,
   "metadata": {
    "tags": []
   },
   "outputs": [],
   "source": [
    "df.dropna(inplace=True)"
   ]
  },
  {
   "cell_type": "markdown",
   "metadata": {},
   "source": [
    "Copying the values in the new dataset, so that the original is not changed"
   ]
  },
  {
   "cell_type": "code",
   "execution_count": 23,
   "metadata": {
    "tags": []
   },
   "outputs": [],
   "source": [
    "df2 = df.copy(deep=True)"
   ]
  },
  {
   "cell_type": "markdown",
   "metadata": {},
   "source": [
    "Getting the absolute ratings of the laptops"
   ]
  },
  {
   "cell_type": "code",
   "execution_count": 24,
   "metadata": {
    "tags": []
   },
   "outputs": [
    {
     "data": {
      "text/html": [
       "<div>\n",
       "<style scoped>\n",
       "    .dataframe tbody tr th:only-of-type {\n",
       "        vertical-align: middle;\n",
       "    }\n",
       "\n",
       "    .dataframe tbody tr th {\n",
       "        vertical-align: top;\n",
       "    }\n",
       "\n",
       "    .dataframe thead th {\n",
       "        text-align: right;\n",
       "    }\n",
       "</style>\n",
       "<table border=\"1\" class=\"dataframe\">\n",
       "  <thead>\n",
       "    <tr style=\"text-align: right;\">\n",
       "      <th></th>\n",
       "      <th>brand</th>\n",
       "      <th>laptop_name</th>\n",
       "      <th>display_size</th>\n",
       "      <th>processor_type</th>\n",
       "      <th>graphics_card</th>\n",
       "      <th>disk_space</th>\n",
       "      <th>discount_price</th>\n",
       "      <th>old_price</th>\n",
       "      <th>ratings_5max</th>\n",
       "    </tr>\n",
       "  </thead>\n",
       "  <tbody>\n",
       "    <tr>\n",
       "      <th>0</th>\n",
       "      <td>HP</td>\n",
       "      <td>Notebook 14-df0008nx</td>\n",
       "      <td>14.0</td>\n",
       "      <td>Intel Celeron N4000</td>\n",
       "      <td>Intel HD Graphics 600</td>\n",
       "      <td>64 GB (eMMC)</td>\n",
       "      <td>1259.0</td>\n",
       "      <td>1259.0</td>\n",
       "      <td>0.0</td>\n",
       "    </tr>\n",
       "    <tr>\n",
       "      <th>1</th>\n",
       "      <td>Lenovo</td>\n",
       "      <td>IdeaPad 330S-14IKB</td>\n",
       "      <td>14.0</td>\n",
       "      <td>Intel Core i5-8250U</td>\n",
       "      <td>Intel UHD Graphics 620</td>\n",
       "      <td>1 TB HDD</td>\n",
       "      <td>1849.0</td>\n",
       "      <td>2099.0</td>\n",
       "      <td>3.3</td>\n",
       "    </tr>\n",
       "    <tr>\n",
       "      <th>2</th>\n",
       "      <td>Huawei</td>\n",
       "      <td>MateBook D Volta</td>\n",
       "      <td>14.0</td>\n",
       "      <td>Intel Core i5-8250U</td>\n",
       "      <td>NVIDIA GeForce MX150 (2 GB)</td>\n",
       "      <td>256 GB SSD</td>\n",
       "      <td>2999.0</td>\n",
       "      <td>3799.0</td>\n",
       "      <td>0.0</td>\n",
       "    </tr>\n",
       "    <tr>\n",
       "      <th>3</th>\n",
       "      <td>Dell</td>\n",
       "      <td>Inspiron 15 3567</td>\n",
       "      <td>15.6</td>\n",
       "      <td>Intel Core i3-7020U</td>\n",
       "      <td>Intel HD Graphics 620</td>\n",
       "      <td>1 TB HDD</td>\n",
       "      <td>1849.0</td>\n",
       "      <td>1849.0</td>\n",
       "      <td>0.0</td>\n",
       "    </tr>\n",
       "    <tr>\n",
       "      <th>4</th>\n",
       "      <td>Asus</td>\n",
       "      <td>VivoBook 15 X510UR</td>\n",
       "      <td>15.6</td>\n",
       "      <td>Intel Core i7-8550U</td>\n",
       "      <td>NVIDIA GeForce 930MX (2 GB)</td>\n",
       "      <td>1 TB HDD</td>\n",
       "      <td>2499.0</td>\n",
       "      <td>3149.0</td>\n",
       "      <td>0.0</td>\n",
       "    </tr>\n",
       "    <tr>\n",
       "      <th>...</th>\n",
       "      <td>...</td>\n",
       "      <td>...</td>\n",
       "      <td>...</td>\n",
       "      <td>...</td>\n",
       "      <td>...</td>\n",
       "      <td>...</td>\n",
       "      <td>...</td>\n",
       "      <td>...</td>\n",
       "      <td>...</td>\n",
       "    </tr>\n",
       "    <tr>\n",
       "      <th>200</th>\n",
       "      <td>Lenovo</td>\n",
       "      <td>IdeaPad 320-15IKBRN</td>\n",
       "      <td>15.6</td>\n",
       "      <td>Intel Core i5-8250U</td>\n",
       "      <td>Intel GMA HD</td>\n",
       "      <td>1 TB HDD</td>\n",
       "      <td>2099.0</td>\n",
       "      <td>2099.0</td>\n",
       "      <td>3.8</td>\n",
       "    </tr>\n",
       "    <tr>\n",
       "      <th>201</th>\n",
       "      <td>Huawei</td>\n",
       "      <td>MateBook D</td>\n",
       "      <td>15.6</td>\n",
       "      <td>Intel Core i7-8550U</td>\n",
       "      <td>NVIDIA GeForce MX150 (2 GB)</td>\n",
       "      <td>128 GB SSD/1 TB HDD</td>\n",
       "      <td>3299.0</td>\n",
       "      <td>3299.0</td>\n",
       "      <td>4.0</td>\n",
       "    </tr>\n",
       "    <tr>\n",
       "      <th>202</th>\n",
       "      <td>Apple</td>\n",
       "      <td>MacBook Pro (Retina + Touch Bar)</td>\n",
       "      <td>15.4</td>\n",
       "      <td>Intel Core i7 6 Core</td>\n",
       "      <td>Radeon Pro 555X GDDR5 (4 GB)</td>\n",
       "      <td>256 GB SSD</td>\n",
       "      <td>10199.0</td>\n",
       "      <td>10199.0</td>\n",
       "      <td>0.0</td>\n",
       "    </tr>\n",
       "    <tr>\n",
       "      <th>203</th>\n",
       "      <td>Apple</td>\n",
       "      <td>MacBook Pro (Retina + Touch Bar)</td>\n",
       "      <td>15.4</td>\n",
       "      <td>Intel Core i7 6 Core</td>\n",
       "      <td>Radeon Pro 560X GDDR5 (4 GB)</td>\n",
       "      <td>512 GB SSD</td>\n",
       "      <td>11899.0</td>\n",
       "      <td>11899.0</td>\n",
       "      <td>4.4</td>\n",
       "    </tr>\n",
       "    <tr>\n",
       "      <th>204</th>\n",
       "      <td>Dell</td>\n",
       "      <td>Inspiron 15 3576</td>\n",
       "      <td>15.6</td>\n",
       "      <td>Intel Core i5-8250U</td>\n",
       "      <td>AMD Radeon 520 (2 GB)</td>\n",
       "      <td>1 TB HDD</td>\n",
       "      <td>2299.0</td>\n",
       "      <td>2299.0</td>\n",
       "      <td>0.0</td>\n",
       "    </tr>\n",
       "  </tbody>\n",
       "</table>\n",
       "<p>204 rows × 9 columns</p>\n",
       "</div>"
      ],
      "text/plain": [
       "      brand                       laptop_name  display_size  \\\n",
       "0        HP              Notebook 14-df0008nx          14.0   \n",
       "1    Lenovo                IdeaPad 330S-14IKB          14.0   \n",
       "2    Huawei                  MateBook D Volta          14.0   \n",
       "3      Dell                  Inspiron 15 3567          15.6   \n",
       "4      Asus                VivoBook 15 X510UR          15.6   \n",
       "..      ...                               ...           ...   \n",
       "200  Lenovo               IdeaPad 320-15IKBRN          15.6   \n",
       "201  Huawei                        MateBook D          15.6   \n",
       "202   Apple  MacBook Pro (Retina + Touch Bar)          15.4   \n",
       "203   Apple  MacBook Pro (Retina + Touch Bar)          15.4   \n",
       "204    Dell                  Inspiron 15 3576          15.6   \n",
       "\n",
       "            processor_type                  graphics_card  \\\n",
       "0      Intel Celeron N4000          Intel HD Graphics 600   \n",
       "1      Intel Core i5-8250U         Intel UHD Graphics 620   \n",
       "2      Intel Core i5-8250U    NVIDIA GeForce MX150 (2 GB)   \n",
       "3      Intel Core i3-7020U          Intel HD Graphics 620   \n",
       "4      Intel Core i7-8550U    NVIDIA GeForce 930MX (2 GB)   \n",
       "..                     ...                            ...   \n",
       "200    Intel Core i5-8250U                   Intel GMA HD   \n",
       "201    Intel Core i7-8550U    NVIDIA GeForce MX150 (2 GB)   \n",
       "202   Intel Core i7 6 Core   Radeon Pro 555X GDDR5 (4 GB)   \n",
       "203   Intel Core i7 6 Core   Radeon Pro 560X GDDR5 (4 GB)   \n",
       "204    Intel Core i5-8250U          AMD Radeon 520 (2 GB)   \n",
       "\n",
       "               disk_space  discount_price  old_price  ratings_5max  \n",
       "0            64 GB (eMMC)          1259.0     1259.0           0.0  \n",
       "1                1 TB HDD          1849.0     2099.0           3.3  \n",
       "2              256 GB SSD          2999.0     3799.0           0.0  \n",
       "3                1 TB HDD          1849.0     1849.0           0.0  \n",
       "4                1 TB HDD          2499.0     3149.0           0.0  \n",
       "..                    ...             ...        ...           ...  \n",
       "200              1 TB HDD          2099.0     2099.0           3.8  \n",
       "201   128 GB SSD/1 TB HDD          3299.0     3299.0           4.0  \n",
       "202            256 GB SSD         10199.0    10199.0           0.0  \n",
       "203            512 GB SSD         11899.0    11899.0           4.4  \n",
       "204              1 TB HDD          2299.0     2299.0           0.0  \n",
       "\n",
       "[204 rows x 9 columns]"
      ]
     },
     "execution_count": 24,
     "metadata": {},
     "output_type": "execute_result"
    }
   ],
   "source": [
    "df2['ratings_5max'] = df[\"ratings_5max\"].apply(lambda x: float(x.split()[0]))\n",
    "df2"
   ]
  },
  {
   "cell_type": "markdown",
   "metadata": {},
   "source": [
    "Disk space has two segments i.e; size of the disk and its type. Aim to convert whole column in terms of GB's."
   ]
  },
  {
   "cell_type": "code",
   "execution_count": 25,
   "metadata": {
    "tags": []
   },
   "outputs": [
    {
     "data": {
      "text/plain": [
       "array(['(eMMC)', 'HDD', 'SSD', 'SSD)', 'Flash)'], dtype=object)"
      ]
     },
     "execution_count": 25,
     "metadata": {},
     "output_type": "execute_result"
    }
   ],
   "source": [
    "df2.disk_space.apply(lambda x: x.split()[-1]).unique()"
   ]
  },
  {
   "cell_type": "markdown",
   "metadata": {},
   "source": [
    "Correcting the typo with SSD and Flash."
   ]
  },
  {
   "cell_type": "code",
   "execution_count": 26,
   "metadata": {
    "tags": []
   },
   "outputs": [],
   "source": [
    "typeDict = {'(eMMC)': 'eMMC', 'HDD': 'HDD', 'SSD': 'SSD', 'SSD)': 'SSD', 'Flash)': 'Flash'}\n",
    "df2['disk_type'] = df2['disk_space'].map(lambda x: typeDict[x.split()[-1]])\n",
    "df2['disk_space'] = df2['disk_space'].apply(lambda x: float(x.split()[0])*1024 if x.split()[1] == 'TB' else float(x.split()[0]))"
   ]
  },
  {
   "cell_type": "code",
   "execution_count": 27,
   "metadata": {
    "tags": []
   },
   "outputs": [
    {
     "data": {
      "text/plain": [
       "array(['eMMC', 'HDD', 'SSD', 'Flash'], dtype=object)"
      ]
     },
     "execution_count": 27,
     "metadata": {},
     "output_type": "execute_result"
    }
   ],
   "source": [
    "df2['disk_type'].unique()"
   ]
  },
  {
   "cell_type": "markdown",
   "metadata": {},
   "source": [
    "## Replacing the disk type with encoded numbers."
   ]
  },
  {
   "cell_type": "code",
   "execution_count": 28,
   "metadata": {
    "tags": []
   },
   "outputs": [],
   "source": [
    "df2['disk_type'] = df2['disk_type'].replace('eMMC',1,regex=True)\n",
    "df2['disk_type'] = df2['disk_type'].replace('HDD',2,regex=True)\n",
    "df2['disk_type'] = df2['disk_type'].replace('SSD',3,regex=True)\n",
    "df2['disk_type'] = df2['disk_type'].replace('Flash',4,regex=True)"
   ]
  },
  {
   "cell_type": "markdown",
   "metadata": {},
   "source": [
    "## Note\n",
    "\n",
    "The display size in the dataset is in inches."
   ]
  },
  {
   "cell_type": "markdown",
   "metadata": {},
   "source": [
    "Checking the number of unique brands."
   ]
  },
  {
   "cell_type": "code",
   "execution_count": 29,
   "metadata": {
    "tags": []
   },
   "outputs": [
    {
     "data": {
      "text/plain": [
       "array(['HP', 'Lenovo', 'Huawei', 'Dell', 'Asus', 'Apple', 'Acer',\n",
       "       'Microsoft', 'MSI'], dtype=object)"
      ]
     },
     "execution_count": 29,
     "metadata": {},
     "output_type": "execute_result"
    }
   ],
   "source": [
    "df2['brand'].unique()"
   ]
  },
  {
   "cell_type": "markdown",
   "metadata": {},
   "source": [
    "Dropping the uneccessary columns for the prediction model."
   ]
  },
  {
   "cell_type": "code",
   "execution_count": 30,
   "metadata": {
    "tags": []
   },
   "outputs": [],
   "source": [
    "df2 = df2.drop(['brand', 'laptop_name','processor_type','graphics_card','disk_type'], axis=1)\n",
    "scaler = StandardScaler()\n",
    "df_scaled = scaler.fit_transform(df2)"
   ]
  },
  {
   "cell_type": "markdown",
   "metadata": {},
   "source": [
    "Finding the optimal number of clusters using the silhoutter scores."
   ]
  },
  {
   "cell_type": "code",
   "execution_count": 31,
   "metadata": {
    "tags": []
   },
   "outputs": [
    {
     "name": "stdout",
     "output_type": "stream",
     "text": [
      "The optimal number of clusters is 9\n"
     ]
    }
   ],
   "source": [
    "silhouette_scores = []\n",
    "for n_clusters in range(2, 11):\n",
    "    kmeans = KMeans(n_clusters=n_clusters)\n",
    "    cluster_labels = kmeans.fit_predict(df_scaled)\n",
    "    silhouette_scores.append(silhouette_score(df_scaled, cluster_labels))\n",
    "\n",
    "optimal_n_clusters = silhouette_scores.index(max(silhouette_scores)) + 2\n",
    "print(f\"The optimal number of clusters is {optimal_n_clusters}\")"
   ]
  },
  {
   "cell_type": "code",
   "execution_count": 32,
   "metadata": {
    "tags": []
   },
   "outputs": [],
   "source": [
    "kmeans = KMeans(n_clusters=10)\n",
    "cluster_labels = kmeans.fit_predict(df_scaled)"
   ]
  },
  {
   "cell_type": "code",
   "execution_count": null,
   "metadata": {
    "tags": []
   },
   "outputs": [],
   "source": [
    "df2['Cluster'] = cluster_labels\n",
    "df2"
   ]
  },
  {
   "cell_type": "markdown",
   "metadata": {},
   "source": [
    "Recommending the laptop based on user preferences.<br>\n",
    "For example : if user prefers's a laptop with a 14 inch screen size, an above 3-star rating and disk space of atleast 32GB.<br><br>\n",
    "Creating a user preference dataframe."
   ]
  },
  {
   "cell_type": "code",
   "execution_count": 49,
   "metadata": {
    "tags": []
   },
   "outputs": [],
   "source": [
    "user_preferences = pd.DataFrame({\n",
    "    'display_size': [14],\n",
    "    'disk_space':[32],\n",
    "    'discount_price':[10000],\n",
    "    'old_price': [20000],\n",
    "    'ratings_5max':[3],   \n",
    "})"
   ]
  },
  {
   "cell_type": "code",
   "execution_count": 50,
   "metadata": {
    "tags": []
   },
   "outputs": [
    {
     "data": {
      "text/html": [
       "<div>\n",
       "<style scoped>\n",
       "    .dataframe tbody tr th:only-of-type {\n",
       "        vertical-align: middle;\n",
       "    }\n",
       "\n",
       "    .dataframe tbody tr th {\n",
       "        vertical-align: top;\n",
       "    }\n",
       "\n",
       "    .dataframe thead th {\n",
       "        text-align: right;\n",
       "    }\n",
       "</style>\n",
       "<table border=\"1\" class=\"dataframe\">\n",
       "  <thead>\n",
       "    <tr style=\"text-align: right;\">\n",
       "      <th></th>\n",
       "      <th>display_size</th>\n",
       "      <th>disk_space</th>\n",
       "      <th>discount_price</th>\n",
       "      <th>old_price</th>\n",
       "      <th>ratings_5max</th>\n",
       "      <th>Cluster</th>\n",
       "    </tr>\n",
       "  </thead>\n",
       "  <tbody>\n",
       "    <tr>\n",
       "      <th>0</th>\n",
       "      <td>14.0</td>\n",
       "      <td>64.0</td>\n",
       "      <td>1259.0</td>\n",
       "      <td>1259.0</td>\n",
       "      <td>0.0</td>\n",
       "      <td>4</td>\n",
       "    </tr>\n",
       "    <tr>\n",
       "      <th>1</th>\n",
       "      <td>14.0</td>\n",
       "      <td>1024.0</td>\n",
       "      <td>1849.0</td>\n",
       "      <td>2099.0</td>\n",
       "      <td>3.3</td>\n",
       "      <td>7</td>\n",
       "    </tr>\n",
       "    <tr>\n",
       "      <th>2</th>\n",
       "      <td>14.0</td>\n",
       "      <td>256.0</td>\n",
       "      <td>2999.0</td>\n",
       "      <td>3799.0</td>\n",
       "      <td>0.0</td>\n",
       "      <td>0</td>\n",
       "    </tr>\n",
       "    <tr>\n",
       "      <th>3</th>\n",
       "      <td>15.6</td>\n",
       "      <td>1024.0</td>\n",
       "      <td>1849.0</td>\n",
       "      <td>1849.0</td>\n",
       "      <td>0.0</td>\n",
       "      <td>1</td>\n",
       "    </tr>\n",
       "    <tr>\n",
       "      <th>4</th>\n",
       "      <td>15.6</td>\n",
       "      <td>1024.0</td>\n",
       "      <td>2499.0</td>\n",
       "      <td>3149.0</td>\n",
       "      <td>0.0</td>\n",
       "      <td>1</td>\n",
       "    </tr>\n",
       "  </tbody>\n",
       "</table>\n",
       "</div>"
      ],
      "text/plain": [
       "   display_size  disk_space  discount_price  old_price  ratings_5max  Cluster\n",
       "0          14.0        64.0          1259.0     1259.0           0.0        4\n",
       "1          14.0      1024.0          1849.0     2099.0           3.3        7\n",
       "2          14.0       256.0          2999.0     3799.0           0.0        0\n",
       "3          15.6      1024.0          1849.0     1849.0           0.0        1\n",
       "4          15.6      1024.0          2499.0     3149.0           0.0        1"
      ]
     },
     "execution_count": 50,
     "metadata": {},
     "output_type": "execute_result"
    }
   ],
   "source": [
    "df2.head()"
   ]
  },
  {
   "cell_type": "markdown",
   "metadata": {},
   "source": [
    "Scaling the user preference dataframe."
   ]
  },
  {
   "cell_type": "code",
   "execution_count": 51,
   "metadata": {
    "tags": []
   },
   "outputs": [],
   "source": [
    "user_preferences_scaled = scaler.transform(user_preferences)"
   ]
  },
  {
   "cell_type": "code",
   "execution_count": 52,
   "metadata": {
    "tags": []
   },
   "outputs": [],
   "source": [
    "cluster = kmeans.predict(user_preferences_scaled)[0]"
   ]
  },
  {
   "cell_type": "markdown",
   "metadata": {},
   "source": [
    "Recommending the laptops based on user preference."
   ]
  },
  {
   "cell_type": "code",
   "execution_count": 53,
   "metadata": {
    "tags": []
   },
   "outputs": [
    {
     "data": {
      "text/html": [
       "<div>\n",
       "<style scoped>\n",
       "    .dataframe tbody tr th:only-of-type {\n",
       "        vertical-align: middle;\n",
       "    }\n",
       "\n",
       "    .dataframe tbody tr th {\n",
       "        vertical-align: top;\n",
       "    }\n",
       "\n",
       "    .dataframe thead th {\n",
       "        text-align: right;\n",
       "    }\n",
       "</style>\n",
       "<table border=\"1\" class=\"dataframe\">\n",
       "  <thead>\n",
       "    <tr style=\"text-align: right;\">\n",
       "      <th></th>\n",
       "      <th>brand</th>\n",
       "      <th>laptop_name</th>\n",
       "      <th>display_size</th>\n",
       "      <th>processor_type</th>\n",
       "      <th>graphics_card</th>\n",
       "      <th>disk_space</th>\n",
       "      <th>discount_price</th>\n",
       "      <th>old_price</th>\n",
       "      <th>ratings_5max</th>\n",
       "    </tr>\n",
       "  </thead>\n",
       "  <tbody>\n",
       "    <tr>\n",
       "      <th>14</th>\n",
       "      <td>Apple</td>\n",
       "      <td>MacBook Pro (Retina + Touch Bar)</td>\n",
       "      <td>15.4</td>\n",
       "      <td>Intel Core i7 6 Core</td>\n",
       "      <td>Radeon Pro 555X GDDR5 (4 GB)</td>\n",
       "      <td>256 GB SSD</td>\n",
       "      <td>9099.0</td>\n",
       "      <td>10199.0</td>\n",
       "      <td>0 / 5</td>\n",
       "    </tr>\n",
       "    <tr>\n",
       "      <th>50</th>\n",
       "      <td>Dell</td>\n",
       "      <td>XPS 15 9570</td>\n",
       "      <td>15.6</td>\n",
       "      <td>Intel Core i7-8750H</td>\n",
       "      <td>NVIDIA GeForce GTX 1050 Ti (4 GB)</td>\n",
       "      <td>128 GB M.2 SSD/1 TB HDD</td>\n",
       "      <td>6099.0</td>\n",
       "      <td>6499.0</td>\n",
       "      <td>0 / 5</td>\n",
       "    </tr>\n",
       "    <tr>\n",
       "      <th>131</th>\n",
       "      <td>Apple</td>\n",
       "      <td>MacBook Pro (Retina + Touch Bar)</td>\n",
       "      <td>15.4</td>\n",
       "      <td>Intel Core i7 6 Core</td>\n",
       "      <td>Radeon Pro 555X GDDR5 (4 GB)</td>\n",
       "      <td>256 GB SSD</td>\n",
       "      <td>10799.0</td>\n",
       "      <td>10799.0</td>\n",
       "      <td>0 / 5</td>\n",
       "    </tr>\n",
       "    <tr>\n",
       "      <th>132</th>\n",
       "      <td>Apple</td>\n",
       "      <td>MacBook Pro (Retina + Touch Bar)</td>\n",
       "      <td>15.4</td>\n",
       "      <td>Intel Core i9</td>\n",
       "      <td>Radeon Pro 560X GDDR5 (4 GB)</td>\n",
       "      <td>512 GB SSD</td>\n",
       "      <td>12499.0</td>\n",
       "      <td>12499.0</td>\n",
       "      <td>0 / 5</td>\n",
       "    </tr>\n",
       "    <tr>\n",
       "      <th>135</th>\n",
       "      <td>MSI</td>\n",
       "      <td>GT83VR 7RF Titan SLI</td>\n",
       "      <td>18.4</td>\n",
       "      <td>Intel Core i7-7820HK</td>\n",
       "      <td>NVIDIA GeForce GTX 1080 (8 GB) SLI</td>\n",
       "      <td>256 GB SSD (Super Raid)/1 TB HDD</td>\n",
       "      <td>9071.0</td>\n",
       "      <td>9071.0</td>\n",
       "      <td>0 / 5</td>\n",
       "    </tr>\n",
       "    <tr>\n",
       "      <th>136</th>\n",
       "      <td>Asus</td>\n",
       "      <td>ROG G752VS</td>\n",
       "      <td>17.3</td>\n",
       "      <td>Intel Core i7-7700HQ</td>\n",
       "      <td>NVIDIA GeForce GTX 1070 (8 GB)</td>\n",
       "      <td>256 GB SSD/1 TB HDD</td>\n",
       "      <td>8189.0</td>\n",
       "      <td>8189.0</td>\n",
       "      <td>0 / 5</td>\n",
       "    </tr>\n",
       "    <tr>\n",
       "      <th>137</th>\n",
       "      <td>Acer</td>\n",
       "      <td>Predator 17 GX791 78ND</td>\n",
       "      <td>17.3</td>\n",
       "      <td>Intel Core i7-6700HQ</td>\n",
       "      <td>NVIDIA GeForce GTX 980M (8 GB)</td>\n",
       "      <td>256 GB SSD/1 TB HDD</td>\n",
       "      <td>7507.0</td>\n",
       "      <td>7507.0</td>\n",
       "      <td>0 / 5</td>\n",
       "    </tr>\n",
       "    <tr>\n",
       "      <th>138</th>\n",
       "      <td>Apple</td>\n",
       "      <td>MacBook Pro (Retina)</td>\n",
       "      <td>15.4</td>\n",
       "      <td>Intel Core i7 Quad Core</td>\n",
       "      <td>AMD Radeon R9-M370X (2 GB)</td>\n",
       "      <td>512 GB SSD</td>\n",
       "      <td>6824.0</td>\n",
       "      <td>6824.0</td>\n",
       "      <td>0 / 5</td>\n",
       "    </tr>\n",
       "    <tr>\n",
       "      <th>139</th>\n",
       "      <td>Dell</td>\n",
       "      <td>Alienware 15</td>\n",
       "      <td>15.6</td>\n",
       "      <td>Intel Core i7-7820HK</td>\n",
       "      <td>NVIDIA GeForce GTX 1080 (8 GB)</td>\n",
       "      <td>256 GB SSD/1 TB HDD</td>\n",
       "      <td>6688.0</td>\n",
       "      <td>6688.0</td>\n",
       "      <td>3.7 / 5</td>\n",
       "    </tr>\n",
       "    <tr>\n",
       "      <th>141</th>\n",
       "      <td>Apple</td>\n",
       "      <td>MacBook Pro (Retina + Touch Bar)</td>\n",
       "      <td>15.4</td>\n",
       "      <td>Intel Core i7 Quad Core</td>\n",
       "      <td>Radeon Pro 555 GDDR5 (2 GB)</td>\n",
       "      <td>256 GB SSD</td>\n",
       "      <td>7679.0</td>\n",
       "      <td>7679.0</td>\n",
       "      <td>4.6 / 5</td>\n",
       "    </tr>\n",
       "    <tr>\n",
       "      <th>144</th>\n",
       "      <td>Apple</td>\n",
       "      <td>MacBook Pro (Retina + Touch Bar)</td>\n",
       "      <td>15.4</td>\n",
       "      <td>Intel Core i7 6 Core</td>\n",
       "      <td>Radeon Pro 560X GDDR5 (4 GB)</td>\n",
       "      <td>512 GB SSD</td>\n",
       "      <td>10699.0</td>\n",
       "      <td>11899.0</td>\n",
       "      <td>4.4 / 5</td>\n",
       "    </tr>\n",
       "    <tr>\n",
       "      <th>164</th>\n",
       "      <td>Apple</td>\n",
       "      <td>MacBook Pro (Retina)</td>\n",
       "      <td>15.4</td>\n",
       "      <td>Intel Core i7 Quad Core</td>\n",
       "      <td>Intel Iris Pro Graphics</td>\n",
       "      <td>256 GB SSD</td>\n",
       "      <td>8189.0</td>\n",
       "      <td>8189.0</td>\n",
       "      <td>4.5 / 5</td>\n",
       "    </tr>\n",
       "    <tr>\n",
       "      <th>177</th>\n",
       "      <td>HP</td>\n",
       "      <td>ENVY 17-ae003nx</td>\n",
       "      <td>17.3</td>\n",
       "      <td>Intel Core i7-7500U</td>\n",
       "      <td>NVIDIA GeForce 940MX (4 GB)</td>\n",
       "      <td>256 GB NVMe M.2 SSD/1 TB HDD</td>\n",
       "      <td>6199.0</td>\n",
       "      <td>6199.0</td>\n",
       "      <td>0 / 5</td>\n",
       "    </tr>\n",
       "    <tr>\n",
       "      <th>179</th>\n",
       "      <td>Dell</td>\n",
       "      <td>XPS 15</td>\n",
       "      <td>15.6</td>\n",
       "      <td>Intel Core i7-8750H</td>\n",
       "      <td>NVIDIA GeForce GTX 1050 Ti (4 GB)</td>\n",
       "      <td>512 GB PCIe NVMe M.2 SSD</td>\n",
       "      <td>8999.0</td>\n",
       "      <td>8999.0</td>\n",
       "      <td>0 / 5</td>\n",
       "    </tr>\n",
       "    <tr>\n",
       "      <th>202</th>\n",
       "      <td>Apple</td>\n",
       "      <td>MacBook Pro (Retina + Touch Bar)</td>\n",
       "      <td>15.4</td>\n",
       "      <td>Intel Core i7 6 Core</td>\n",
       "      <td>Radeon Pro 555X GDDR5 (4 GB)</td>\n",
       "      <td>256 GB SSD</td>\n",
       "      <td>10199.0</td>\n",
       "      <td>10199.0</td>\n",
       "      <td>0 / 5</td>\n",
       "    </tr>\n",
       "    <tr>\n",
       "      <th>203</th>\n",
       "      <td>Apple</td>\n",
       "      <td>MacBook Pro (Retina + Touch Bar)</td>\n",
       "      <td>15.4</td>\n",
       "      <td>Intel Core i7 6 Core</td>\n",
       "      <td>Radeon Pro 560X GDDR5 (4 GB)</td>\n",
       "      <td>512 GB SSD</td>\n",
       "      <td>11899.0</td>\n",
       "      <td>11899.0</td>\n",
       "      <td>4.4 / 5</td>\n",
       "    </tr>\n",
       "  </tbody>\n",
       "</table>\n",
       "</div>"
      ],
      "text/plain": [
       "     brand                       laptop_name  display_size  \\\n",
       "14   Apple  MacBook Pro (Retina + Touch Bar)          15.4   \n",
       "50    Dell                       XPS 15 9570          15.6   \n",
       "131  Apple  MacBook Pro (Retina + Touch Bar)          15.4   \n",
       "132  Apple  MacBook Pro (Retina + Touch Bar)          15.4   \n",
       "135    MSI              GT83VR 7RF Titan SLI          18.4   \n",
       "136   Asus                        ROG G752VS          17.3   \n",
       "137   Acer            Predator 17 GX791 78ND          17.3   \n",
       "138  Apple              MacBook Pro (Retina)          15.4   \n",
       "139   Dell                      Alienware 15          15.6   \n",
       "141  Apple  MacBook Pro (Retina + Touch Bar)          15.4   \n",
       "144  Apple  MacBook Pro (Retina + Touch Bar)          15.4   \n",
       "164  Apple              MacBook Pro (Retina)          15.4   \n",
       "177     HP                   ENVY 17-ae003nx          17.3   \n",
       "179   Dell                            XPS 15          15.6   \n",
       "202  Apple  MacBook Pro (Retina + Touch Bar)          15.4   \n",
       "203  Apple  MacBook Pro (Retina + Touch Bar)          15.4   \n",
       "\n",
       "               processor_type                        graphics_card  \\\n",
       "14       Intel Core i7 6 Core         Radeon Pro 555X GDDR5 (4 GB)   \n",
       "50        Intel Core i7-8750H    NVIDIA GeForce GTX 1050 Ti (4 GB)   \n",
       "131      Intel Core i7 6 Core         Radeon Pro 555X GDDR5 (4 GB)   \n",
       "132             Intel Core i9         Radeon Pro 560X GDDR5 (4 GB)   \n",
       "135      Intel Core i7-7820HK   NVIDIA GeForce GTX 1080 (8 GB) SLI   \n",
       "136      Intel Core i7-7700HQ       NVIDIA GeForce GTX 1070 (8 GB)   \n",
       "137      Intel Core i7-6700HQ       NVIDIA GeForce GTX 980M (8 GB)   \n",
       "138   Intel Core i7 Quad Core           AMD Radeon R9-M370X (2 GB)   \n",
       "139      Intel Core i7-7820HK       NVIDIA GeForce GTX 1080 (8 GB)   \n",
       "141   Intel Core i7 Quad Core          Radeon Pro 555 GDDR5 (2 GB)   \n",
       "144      Intel Core i7 6 Core         Radeon Pro 560X GDDR5 (4 GB)   \n",
       "164   Intel Core i7 Quad Core              Intel Iris Pro Graphics   \n",
       "177       Intel Core i7-7500U          NVIDIA GeForce 940MX (4 GB)   \n",
       "179       Intel Core i7-8750H    NVIDIA GeForce GTX 1050 Ti (4 GB)   \n",
       "202      Intel Core i7 6 Core         Radeon Pro 555X GDDR5 (4 GB)   \n",
       "203      Intel Core i7 6 Core         Radeon Pro 560X GDDR5 (4 GB)   \n",
       "\n",
       "                            disk_space  discount_price  old_price ratings_5max  \n",
       "14                          256 GB SSD          9099.0    10199.0        0 / 5  \n",
       "50             128 GB M.2 SSD/1 TB HDD          6099.0     6499.0        0 / 5  \n",
       "131                         256 GB SSD         10799.0    10799.0        0 / 5  \n",
       "132                         512 GB SSD         12499.0    12499.0        0 / 5  \n",
       "135   256 GB SSD (Super Raid)/1 TB HDD          9071.0     9071.0        0 / 5  \n",
       "136                256 GB SSD/1 TB HDD          8189.0     8189.0        0 / 5  \n",
       "137                256 GB SSD/1 TB HDD          7507.0     7507.0        0 / 5  \n",
       "138                         512 GB SSD          6824.0     6824.0        0 / 5  \n",
       "139                256 GB SSD/1 TB HDD          6688.0     6688.0      3.7 / 5  \n",
       "141                         256 GB SSD          7679.0     7679.0      4.6 / 5  \n",
       "144                         512 GB SSD         10699.0    11899.0      4.4 / 5  \n",
       "164                         256 GB SSD          8189.0     8189.0      4.5 / 5  \n",
       "177       256 GB NVMe M.2 SSD/1 TB HDD          6199.0     6199.0        0 / 5  \n",
       "179           512 GB PCIe NVMe M.2 SSD          8999.0     8999.0        0 / 5  \n",
       "202                         256 GB SSD         10199.0    10199.0        0 / 5  \n",
       "203                         512 GB SSD         11899.0    11899.0      4.4 / 5  "
      ]
     },
     "execution_count": 53,
     "metadata": {},
     "output_type": "execute_result"
    }
   ],
   "source": [
    "recommended_laptops = df[df2['Cluster'] == cluster]\n",
    "recommended_product = pd.DataFrame(recommended_laptops)\n",
    "recommended_product"
   ]
  },
  {
   "cell_type": "code",
   "execution_count": null,
   "metadata": {},
   "outputs": [],
   "source": [
    "[['brand', 'laptop_name','processor_type','graphics_card','display_size']]"
   ]
  }
 ],
 "metadata": {
  "kernelspec": {
   "display_name": "Python 3 (ipykernel)",
   "language": "python",
   "name": "python3"
  },
  "language_info": {
   "codemirror_mode": {
    "name": "ipython",
    "version": 3
   },
   "file_extension": ".py",
   "mimetype": "text/x-python",
   "name": "python",
   "nbconvert_exporter": "python",
   "pygments_lexer": "ipython3",
   "version": "3.10.10"
  }
 },
 "nbformat": 4,
 "nbformat_minor": 4
}
