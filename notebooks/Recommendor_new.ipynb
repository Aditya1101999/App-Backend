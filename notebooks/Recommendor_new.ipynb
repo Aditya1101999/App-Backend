{
 "cells": [
  {
   "cell_type": "code",
   "execution_count": 1,
   "metadata": {
    "id": "jBzfBKB-oLuS",
    "tags": []
   },
   "outputs": [],
   "source": [
    "import numpy as np\n",
    "import pandas as pd\n",
    "import matplotlib.pyplot as plt\n",
    "import seaborn as sns\n",
    "import re\n",
    "%matplotlib inline\n",
    "\n",
    "from scipy.spatial.distance import cdist\n",
    "\n",
    "import joblib\n",
    "from sklearn import set_config\n",
    "from sklearn.pipeline import Pipeline\n",
    "from sklearn.compose import ColumnTransformer\n",
    "from sklearn.preprocessing import StandardScaler, OneHotEncoder, OrdinalEncoder\n",
    "from sklearn.model_selection import train_test_split\n",
    "from sklearn.cluster import KMeans\n",
    "from sklearn.metrics  import silhouette_score\n",
    "set_config(display=\"diagram\")"
   ]
  },
  {
   "cell_type": "code",
   "execution_count": 2,
   "metadata": {
    "colab": {
     "base_uri": "https://localhost:8080/",
     "height": 337
    },
    "id": "3gkqiGUzoLuY",
    "outputId": "19c309ea-81a6-433d-cc4a-0fba183cacb1",
    "tags": []
   },
   "outputs": [
    {
     "data": {
      "text/html": [
       "<div>\n",
       "<style scoped>\n",
       "    .dataframe tbody tr th:only-of-type {\n",
       "        vertical-align: middle;\n",
       "    }\n",
       "\n",
       "    .dataframe tbody tr th {\n",
       "        vertical-align: top;\n",
       "    }\n",
       "\n",
       "    .dataframe thead th {\n",
       "        text-align: right;\n",
       "    }\n",
       "</style>\n",
       "<table border=\"1\" class=\"dataframe\">\n",
       "  <thead>\n",
       "    <tr style=\"text-align: right;\">\n",
       "      <th></th>\n",
       "      <th>brand</th>\n",
       "      <th>img_url</th>\n",
       "      <th>laptop_name</th>\n",
       "      <th>display_size</th>\n",
       "      <th>processor_type</th>\n",
       "      <th>graphics_card</th>\n",
       "      <th>disk_space</th>\n",
       "      <th>discount_price</th>\n",
       "      <th>ratings_5max</th>\n",
       "      <th>disk_type</th>\n",
       "    </tr>\n",
       "  </thead>\n",
       "  <tbody>\n",
       "    <tr>\n",
       "      <th>0</th>\n",
       "      <td>HP</td>\n",
       "      <td>https://encrypted-tbn0.gstatic.com/images?q=tb...</td>\n",
       "      <td>Notebook 14-df0008nx</td>\n",
       "      <td>14.0</td>\n",
       "      <td>Intel Celeron N4000</td>\n",
       "      <td>Intel HD Graphics 600</td>\n",
       "      <td>64.0</td>\n",
       "      <td>1259.0</td>\n",
       "      <td>0.0</td>\n",
       "      <td>eMMC</td>\n",
       "    </tr>\n",
       "    <tr>\n",
       "      <th>1</th>\n",
       "      <td>Lenovo</td>\n",
       "      <td>https://encrypted-tbn0.gstatic.com/images?q=tb...</td>\n",
       "      <td>IdeaPad 330S-14IKB</td>\n",
       "      <td>14.0</td>\n",
       "      <td>Intel Core i5-8250U</td>\n",
       "      <td>Intel UHD Graphics 620</td>\n",
       "      <td>1024.0</td>\n",
       "      <td>1849.0</td>\n",
       "      <td>3.3</td>\n",
       "      <td>HDD</td>\n",
       "    </tr>\n",
       "    <tr>\n",
       "      <th>2</th>\n",
       "      <td>Huawei</td>\n",
       "      <td>https://encrypted-tbn0.gstatic.com/images?q=tb...</td>\n",
       "      <td>MateBook D Volta</td>\n",
       "      <td>14.0</td>\n",
       "      <td>Intel Core i5-8250U</td>\n",
       "      <td>NVIDIA GeForce MX150 (2 GB)</td>\n",
       "      <td>256.0</td>\n",
       "      <td>2999.0</td>\n",
       "      <td>0.0</td>\n",
       "      <td>SSD</td>\n",
       "    </tr>\n",
       "    <tr>\n",
       "      <th>3</th>\n",
       "      <td>Dell</td>\n",
       "      <td>https://encrypted-tbn0.gstatic.com/images?q=tb...</td>\n",
       "      <td>Inspiron 15 3567</td>\n",
       "      <td>15.6</td>\n",
       "      <td>Intel Core i3-7020U</td>\n",
       "      <td>Intel HD Graphics 620</td>\n",
       "      <td>1024.0</td>\n",
       "      <td>1849.0</td>\n",
       "      <td>0.0</td>\n",
       "      <td>HDD</td>\n",
       "    </tr>\n",
       "    <tr>\n",
       "      <th>4</th>\n",
       "      <td>Asus</td>\n",
       "      <td>https://encrypted-tbn0.gstatic.com/images?q=tb...</td>\n",
       "      <td>VivoBook 15 X510UR</td>\n",
       "      <td>15.6</td>\n",
       "      <td>Intel Core i7-8550U</td>\n",
       "      <td>NVIDIA GeForce 930MX (2 GB)</td>\n",
       "      <td>1024.0</td>\n",
       "      <td>2499.0</td>\n",
       "      <td>0.0</td>\n",
       "      <td>HDD</td>\n",
       "    </tr>\n",
       "  </tbody>\n",
       "</table>\n",
       "</div>"
      ],
      "text/plain": [
       "    brand                                            img_url   \n",
       "0      HP  https://encrypted-tbn0.gstatic.com/images?q=tb...  \\\n",
       "1  Lenovo  https://encrypted-tbn0.gstatic.com/images?q=tb...   \n",
       "2  Huawei  https://encrypted-tbn0.gstatic.com/images?q=tb...   \n",
       "3    Dell  https://encrypted-tbn0.gstatic.com/images?q=tb...   \n",
       "4    Asus  https://encrypted-tbn0.gstatic.com/images?q=tb...   \n",
       "\n",
       "            laptop_name  display_size       processor_type   \n",
       "0  Notebook 14-df0008nx          14.0  Intel Celeron N4000  \\\n",
       "1    IdeaPad 330S-14IKB          14.0  Intel Core i5-8250U   \n",
       "2      MateBook D Volta          14.0  Intel Core i5-8250U   \n",
       "3      Inspiron 15 3567          15.6  Intel Core i3-7020U   \n",
       "4    VivoBook 15 X510UR          15.6  Intel Core i7-8550U   \n",
       "\n",
       "                 graphics_card  disk_space  discount_price  ratings_5max   \n",
       "0        Intel HD Graphics 600        64.0          1259.0           0.0  \\\n",
       "1       Intel UHD Graphics 620      1024.0          1849.0           3.3   \n",
       "2  NVIDIA GeForce MX150 (2 GB)       256.0          2999.0           0.0   \n",
       "3        Intel HD Graphics 620      1024.0          1849.0           0.0   \n",
       "4  NVIDIA GeForce 930MX (2 GB)      1024.0          2499.0           0.0   \n",
       "\n",
       "  disk_type  \n",
       "0      eMMC  \n",
       "1       HDD  \n",
       "2       SSD  \n",
       "3       HDD  \n",
       "4       HDD  "
      ]
     },
     "execution_count": 2,
     "metadata": {},
     "output_type": "execute_result"
    }
   ],
   "source": [
    "data = pd.read_csv(\"../data/final_data.csv\", index_col=0)\n",
    "data.head(5)"
   ]
  },
  {
   "cell_type": "markdown",
   "metadata": {
    "jp-MarkdownHeadingCollapsed": true,
    "tags": []
   },
   "source": [
    "# Creating Pipeline for Recommendation System "
   ]
  },
  {
   "cell_type": "code",
   "execution_count": 25,
   "metadata": {
    "colab": {
     "base_uri": "https://localhost:8080/",
     "height": 206
    },
    "id": "DEr0vGLZoLuf",
    "outputId": "8c09d385-4f17-4566-8f76-0f44b31451ea",
    "tags": []
   },
   "outputs": [
    {
     "data": {
      "text/html": [
       "<div>\n",
       "<style scoped>\n",
       "    .dataframe tbody tr th:only-of-type {\n",
       "        vertical-align: middle;\n",
       "    }\n",
       "\n",
       "    .dataframe tbody tr th {\n",
       "        vertical-align: top;\n",
       "    }\n",
       "\n",
       "    .dataframe thead th {\n",
       "        text-align: right;\n",
       "    }\n",
       "</style>\n",
       "<table border=\"1\" class=\"dataframe\">\n",
       "  <thead>\n",
       "    <tr style=\"text-align: right;\">\n",
       "      <th></th>\n",
       "      <th>brand</th>\n",
       "      <th>display_size</th>\n",
       "      <th>processor_type</th>\n",
       "      <th>graphics_card</th>\n",
       "      <th>disk_space</th>\n",
       "      <th>discount_price</th>\n",
       "      <th>ratings_5max</th>\n",
       "      <th>disk_type</th>\n",
       "    </tr>\n",
       "  </thead>\n",
       "  <tbody>\n",
       "    <tr>\n",
       "      <th>0</th>\n",
       "      <td>HP</td>\n",
       "      <td>14.0</td>\n",
       "      <td>Intel Celeron N4000</td>\n",
       "      <td>Intel HD Graphics 600</td>\n",
       "      <td>64.0</td>\n",
       "      <td>1259.0</td>\n",
       "      <td>0.0</td>\n",
       "      <td>eMMC</td>\n",
       "    </tr>\n",
       "    <tr>\n",
       "      <th>1</th>\n",
       "      <td>Lenovo</td>\n",
       "      <td>14.0</td>\n",
       "      <td>Intel Core i5-8250U</td>\n",
       "      <td>Intel UHD Graphics 620</td>\n",
       "      <td>1024.0</td>\n",
       "      <td>1849.0</td>\n",
       "      <td>3.3</td>\n",
       "      <td>HDD</td>\n",
       "    </tr>\n",
       "    <tr>\n",
       "      <th>2</th>\n",
       "      <td>Huawei</td>\n",
       "      <td>14.0</td>\n",
       "      <td>Intel Core i5-8250U</td>\n",
       "      <td>NVIDIA GeForce MX150 (2 GB)</td>\n",
       "      <td>256.0</td>\n",
       "      <td>2999.0</td>\n",
       "      <td>0.0</td>\n",
       "      <td>SSD</td>\n",
       "    </tr>\n",
       "    <tr>\n",
       "      <th>3</th>\n",
       "      <td>Dell</td>\n",
       "      <td>15.6</td>\n",
       "      <td>Intel Core i3-7020U</td>\n",
       "      <td>Intel HD Graphics 620</td>\n",
       "      <td>1024.0</td>\n",
       "      <td>1849.0</td>\n",
       "      <td>0.0</td>\n",
       "      <td>HDD</td>\n",
       "    </tr>\n",
       "    <tr>\n",
       "      <th>4</th>\n",
       "      <td>Asus</td>\n",
       "      <td>15.6</td>\n",
       "      <td>Intel Core i7-8550U</td>\n",
       "      <td>NVIDIA GeForce 930MX (2 GB)</td>\n",
       "      <td>1024.0</td>\n",
       "      <td>2499.0</td>\n",
       "      <td>0.0</td>\n",
       "      <td>HDD</td>\n",
       "    </tr>\n",
       "  </tbody>\n",
       "</table>\n",
       "</div>"
      ],
      "text/plain": [
       "    brand  display_size       processor_type                graphics_card   \n",
       "0      HP          14.0  Intel Celeron N4000        Intel HD Graphics 600  \\\n",
       "1  Lenovo          14.0  Intel Core i5-8250U       Intel UHD Graphics 620   \n",
       "2  Huawei          14.0  Intel Core i5-8250U  NVIDIA GeForce MX150 (2 GB)   \n",
       "3    Dell          15.6  Intel Core i3-7020U        Intel HD Graphics 620   \n",
       "4    Asus          15.6  Intel Core i7-8550U  NVIDIA GeForce 930MX (2 GB)   \n",
       "\n",
       "   disk_space  discount_price  ratings_5max disk_type  \n",
       "0        64.0          1259.0           0.0      eMMC  \n",
       "1      1024.0          1849.0           3.3       HDD  \n",
       "2       256.0          2999.0           0.0       SSD  \n",
       "3      1024.0          1849.0           0.0       HDD  \n",
       "4      1024.0          2499.0           0.0       HDD  "
      ]
     },
     "execution_count": 25,
     "metadata": {},
     "output_type": "execute_result"
    }
   ],
   "source": [
    "data_for_recommendation = data.drop([\"img_url\", \"laptop_name\"], axis=1)\n",
    "data_for_recommendation.head()"
   ]
  },
  {
   "cell_type": "code",
   "execution_count": 26,
   "metadata": {
    "tags": []
   },
   "outputs": [
    {
     "data": {
      "text/plain": [
       "[(0, 'brand'),\n",
       " (1, 'display_size'),\n",
       " (2, 'processor_type'),\n",
       " (3, 'graphics_card'),\n",
       " (4, 'disk_space'),\n",
       " (5, 'discount_price'),\n",
       " (6, 'ratings_5max'),\n",
       " (7, 'disk_type')]"
      ]
     },
     "execution_count": 26,
     "metadata": {},
     "output_type": "execute_result"
    }
   ],
   "source": [
    "list(enumerate(data_for_recommendation.columns))"
   ]
  },
  {
   "cell_type": "code",
   "execution_count": 27,
   "metadata": {
    "colab": {
     "base_uri": "https://localhost:8080/",
     "height": 158
    },
    "id": "82ySRDP2YFdJ",
    "outputId": "b4d0fa88-c9df-4ecc-a170-b1b1984ce524",
    "tags": []
   },
   "outputs": [
    {
     "data": {
      "text/html": [
       "<style>#sk-container-id-3 {color: black;background-color: white;}#sk-container-id-3 pre{padding: 0;}#sk-container-id-3 div.sk-toggleable {background-color: white;}#sk-container-id-3 label.sk-toggleable__label {cursor: pointer;display: block;width: 100%;margin-bottom: 0;padding: 0.3em;box-sizing: border-box;text-align: center;}#sk-container-id-3 label.sk-toggleable__label-arrow:before {content: \"▸\";float: left;margin-right: 0.25em;color: #696969;}#sk-container-id-3 label.sk-toggleable__label-arrow:hover:before {color: black;}#sk-container-id-3 div.sk-estimator:hover label.sk-toggleable__label-arrow:before {color: black;}#sk-container-id-3 div.sk-toggleable__content {max-height: 0;max-width: 0;overflow: hidden;text-align: left;background-color: #f0f8ff;}#sk-container-id-3 div.sk-toggleable__content pre {margin: 0.2em;color: black;border-radius: 0.25em;background-color: #f0f8ff;}#sk-container-id-3 input.sk-toggleable__control:checked~div.sk-toggleable__content {max-height: 200px;max-width: 100%;overflow: auto;}#sk-container-id-3 input.sk-toggleable__control:checked~label.sk-toggleable__label-arrow:before {content: \"▾\";}#sk-container-id-3 div.sk-estimator input.sk-toggleable__control:checked~label.sk-toggleable__label {background-color: #d4ebff;}#sk-container-id-3 div.sk-label input.sk-toggleable__control:checked~label.sk-toggleable__label {background-color: #d4ebff;}#sk-container-id-3 input.sk-hidden--visually {border: 0;clip: rect(1px 1px 1px 1px);clip: rect(1px, 1px, 1px, 1px);height: 1px;margin: -1px;overflow: hidden;padding: 0;position: absolute;width: 1px;}#sk-container-id-3 div.sk-estimator {font-family: monospace;background-color: #f0f8ff;border: 1px dotted black;border-radius: 0.25em;box-sizing: border-box;margin-bottom: 0.5em;}#sk-container-id-3 div.sk-estimator:hover {background-color: #d4ebff;}#sk-container-id-3 div.sk-parallel-item::after {content: \"\";width: 100%;border-bottom: 1px solid gray;flex-grow: 1;}#sk-container-id-3 div.sk-label:hover label.sk-toggleable__label {background-color: #d4ebff;}#sk-container-id-3 div.sk-serial::before {content: \"\";position: absolute;border-left: 1px solid gray;box-sizing: border-box;top: 0;bottom: 0;left: 50%;z-index: 0;}#sk-container-id-3 div.sk-serial {display: flex;flex-direction: column;align-items: center;background-color: white;padding-right: 0.2em;padding-left: 0.2em;position: relative;}#sk-container-id-3 div.sk-item {position: relative;z-index: 1;}#sk-container-id-3 div.sk-parallel {display: flex;align-items: stretch;justify-content: center;background-color: white;position: relative;}#sk-container-id-3 div.sk-item::before, #sk-container-id-3 div.sk-parallel-item::before {content: \"\";position: absolute;border-left: 1px solid gray;box-sizing: border-box;top: 0;bottom: 0;left: 50%;z-index: -1;}#sk-container-id-3 div.sk-parallel-item {display: flex;flex-direction: column;z-index: 1;position: relative;background-color: white;}#sk-container-id-3 div.sk-parallel-item:first-child::after {align-self: flex-end;width: 50%;}#sk-container-id-3 div.sk-parallel-item:last-child::after {align-self: flex-start;width: 50%;}#sk-container-id-3 div.sk-parallel-item:only-child::after {width: 0;}#sk-container-id-3 div.sk-dashed-wrapped {border: 1px dashed gray;margin: 0 0.4em 0.5em 0.4em;box-sizing: border-box;padding-bottom: 0.4em;background-color: white;}#sk-container-id-3 div.sk-label label {font-family: monospace;font-weight: bold;display: inline-block;line-height: 1.2em;}#sk-container-id-3 div.sk-label-container {text-align: center;}#sk-container-id-3 div.sk-container {/* jupyter's `normalize.less` sets `[hidden] { display: none; }` but bootstrap.min.css set `[hidden] { display: none !important; }` so we also need the `!important` here to be able to override the default hidden behavior on the sphinx rendered scikit-learn.org. See: https://github.com/scikit-learn/scikit-learn/issues/21755 */display: inline-block !important;position: relative;}#sk-container-id-3 div.sk-text-repr-fallback {display: none;}</style><div id=\"sk-container-id-3\" class=\"sk-top-container\"><div class=\"sk-text-repr-fallback\"><pre>Pipeline(steps=[(&#x27;tnf1&#x27;,\n",
       "                 ColumnTransformer(remainder=&#x27;passthrough&#x27;,\n",
       "                                   transformers=[(&#x27;one_hot_encoding&#x27;,\n",
       "                                                  OneHotEncoder(dtype=&#x27;int&#x27;,\n",
       "                                                                handle_unknown=&#x27;ignore&#x27;,\n",
       "                                                                sparse_output=False),\n",
       "                                                  [0, 7]),\n",
       "                                                 (&#x27;scaling&#x27;, StandardScaler(),\n",
       "                                                  [1, 5, 6]),\n",
       "                                                 (&#x27;ordinal_encoding&#x27;,\n",
       "                                                  OrdinalEncoder(),\n",
       "                                                  [2, 3, 4])]))])</pre><b>In a Jupyter environment, please rerun this cell to show the HTML representation or trust the notebook. <br />On GitHub, the HTML representation is unable to render, please try loading this page with nbviewer.org.</b></div><div class=\"sk-container\" hidden><div class=\"sk-item sk-dashed-wrapped\"><div class=\"sk-label-container\"><div class=\"sk-label sk-toggleable\"><input class=\"sk-toggleable__control sk-hidden--visually\" id=\"sk-estimator-id-22\" type=\"checkbox\" ><label for=\"sk-estimator-id-22\" class=\"sk-toggleable__label sk-toggleable__label-arrow\">Pipeline</label><div class=\"sk-toggleable__content\"><pre>Pipeline(steps=[(&#x27;tnf1&#x27;,\n",
       "                 ColumnTransformer(remainder=&#x27;passthrough&#x27;,\n",
       "                                   transformers=[(&#x27;one_hot_encoding&#x27;,\n",
       "                                                  OneHotEncoder(dtype=&#x27;int&#x27;,\n",
       "                                                                handle_unknown=&#x27;ignore&#x27;,\n",
       "                                                                sparse_output=False),\n",
       "                                                  [0, 7]),\n",
       "                                                 (&#x27;scaling&#x27;, StandardScaler(),\n",
       "                                                  [1, 5, 6]),\n",
       "                                                 (&#x27;ordinal_encoding&#x27;,\n",
       "                                                  OrdinalEncoder(),\n",
       "                                                  [2, 3, 4])]))])</pre></div></div></div><div class=\"sk-serial\"><div class=\"sk-item sk-dashed-wrapped\"><div class=\"sk-label-container\"><div class=\"sk-label sk-toggleable\"><input class=\"sk-toggleable__control sk-hidden--visually\" id=\"sk-estimator-id-23\" type=\"checkbox\" ><label for=\"sk-estimator-id-23\" class=\"sk-toggleable__label sk-toggleable__label-arrow\">tnf1: ColumnTransformer</label><div class=\"sk-toggleable__content\"><pre>ColumnTransformer(remainder=&#x27;passthrough&#x27;,\n",
       "                  transformers=[(&#x27;one_hot_encoding&#x27;,\n",
       "                                 OneHotEncoder(dtype=&#x27;int&#x27;,\n",
       "                                               handle_unknown=&#x27;ignore&#x27;,\n",
       "                                               sparse_output=False),\n",
       "                                 [0, 7]),\n",
       "                                (&#x27;scaling&#x27;, StandardScaler(), [1, 5, 6]),\n",
       "                                (&#x27;ordinal_encoding&#x27;, OrdinalEncoder(),\n",
       "                                 [2, 3, 4])])</pre></div></div></div><div class=\"sk-parallel\"><div class=\"sk-parallel-item\"><div class=\"sk-item\"><div class=\"sk-label-container\"><div class=\"sk-label sk-toggleable\"><input class=\"sk-toggleable__control sk-hidden--visually\" id=\"sk-estimator-id-24\" type=\"checkbox\" ><label for=\"sk-estimator-id-24\" class=\"sk-toggleable__label sk-toggleable__label-arrow\">one_hot_encoding</label><div class=\"sk-toggleable__content\"><pre>[0, 7]</pre></div></div></div><div class=\"sk-serial\"><div class=\"sk-item\"><div class=\"sk-estimator sk-toggleable\"><input class=\"sk-toggleable__control sk-hidden--visually\" id=\"sk-estimator-id-25\" type=\"checkbox\" ><label for=\"sk-estimator-id-25\" class=\"sk-toggleable__label sk-toggleable__label-arrow\">OneHotEncoder</label><div class=\"sk-toggleable__content\"><pre>OneHotEncoder(dtype=&#x27;int&#x27;, handle_unknown=&#x27;ignore&#x27;, sparse_output=False)</pre></div></div></div></div></div></div><div class=\"sk-parallel-item\"><div class=\"sk-item\"><div class=\"sk-label-container\"><div class=\"sk-label sk-toggleable\"><input class=\"sk-toggleable__control sk-hidden--visually\" id=\"sk-estimator-id-26\" type=\"checkbox\" ><label for=\"sk-estimator-id-26\" class=\"sk-toggleable__label sk-toggleable__label-arrow\">scaling</label><div class=\"sk-toggleable__content\"><pre>[1, 5, 6]</pre></div></div></div><div class=\"sk-serial\"><div class=\"sk-item\"><div class=\"sk-estimator sk-toggleable\"><input class=\"sk-toggleable__control sk-hidden--visually\" id=\"sk-estimator-id-27\" type=\"checkbox\" ><label for=\"sk-estimator-id-27\" class=\"sk-toggleable__label sk-toggleable__label-arrow\">StandardScaler</label><div class=\"sk-toggleable__content\"><pre>StandardScaler()</pre></div></div></div></div></div></div><div class=\"sk-parallel-item\"><div class=\"sk-item\"><div class=\"sk-label-container\"><div class=\"sk-label sk-toggleable\"><input class=\"sk-toggleable__control sk-hidden--visually\" id=\"sk-estimator-id-28\" type=\"checkbox\" ><label for=\"sk-estimator-id-28\" class=\"sk-toggleable__label sk-toggleable__label-arrow\">ordinal_encoding</label><div class=\"sk-toggleable__content\"><pre>[2, 3, 4]</pre></div></div></div><div class=\"sk-serial\"><div class=\"sk-item\"><div class=\"sk-estimator sk-toggleable\"><input class=\"sk-toggleable__control sk-hidden--visually\" id=\"sk-estimator-id-29\" type=\"checkbox\" ><label for=\"sk-estimator-id-29\" class=\"sk-toggleable__label sk-toggleable__label-arrow\">OrdinalEncoder</label><div class=\"sk-toggleable__content\"><pre>OrdinalEncoder()</pre></div></div></div></div></div></div><div class=\"sk-parallel-item\"><div class=\"sk-item\"><div class=\"sk-label-container\"><div class=\"sk-label sk-toggleable\"><input class=\"sk-toggleable__control sk-hidden--visually\" id=\"sk-estimator-id-30\" type=\"checkbox\" ><label for=\"sk-estimator-id-30\" class=\"sk-toggleable__label sk-toggleable__label-arrow\">remainder</label><div class=\"sk-toggleable__content\"><pre>[]</pre></div></div></div><div class=\"sk-serial\"><div class=\"sk-item\"><div class=\"sk-estimator sk-toggleable\"><input class=\"sk-toggleable__control sk-hidden--visually\" id=\"sk-estimator-id-31\" type=\"checkbox\" ><label for=\"sk-estimator-id-31\" class=\"sk-toggleable__label sk-toggleable__label-arrow\">passthrough</label><div class=\"sk-toggleable__content\"><pre>passthrough</pre></div></div></div></div></div></div></div></div></div></div></div></div>"
      ],
      "text/plain": [
       "Pipeline(steps=[('tnf1',\n",
       "                 ColumnTransformer(remainder='passthrough',\n",
       "                                   transformers=[('one_hot_encoding',\n",
       "                                                  OneHotEncoder(dtype='int',\n",
       "                                                                handle_unknown='ignore',\n",
       "                                                                sparse_output=False),\n",
       "                                                  [0, 7]),\n",
       "                                                 ('scaling', StandardScaler(),\n",
       "                                                  [1, 5, 6]),\n",
       "                                                 ('ordinal_encoding',\n",
       "                                                  OrdinalEncoder(),\n",
       "                                                  [2, 3, 4])]))])"
      ]
     },
     "execution_count": 27,
     "metadata": {},
     "output_type": "execute_result"
    }
   ],
   "source": [
    "pipeline = Pipeline([\n",
    "    (\"tnf1\", ColumnTransformer([\n",
    "        (\"one_hot_encoding\", OneHotEncoder(dtype=\"int\", sparse_output=False, handle_unknown=\"ignore\"), [0,7]),\n",
    "        (\"scaling\", StandardScaler(), [1, 5, 6]),\n",
    "        (\"ordinal_encoding\", OrdinalEncoder(), [2, 3, 4])\n",
    "    ], remainder=\"passthrough\"))\n",
    "])\n",
    "\n",
    "pipeline.fit(data_for_recommendation.values)"
   ]
  },
  {
   "cell_type": "code",
   "execution_count": 28,
   "metadata": {
    "colab": {
     "base_uri": "https://localhost:8080/",
     "height": 0
    },
    "id": "R8wPwfpzaPWc",
    "outputId": "5c87a929-5b4e-4603-a496-0a4faed4c870",
    "tags": []
   },
   "outputs": [
    {
     "data": {
      "text/plain": [
       "array([ 0.        ,  0.        ,  0.        ,  0.        ,  1.        ,\n",
       "        0.        ,  0.        ,  0.        ,  0.        ,  0.        ,\n",
       "        0.        ,  1.        ,  0.        , -0.51443978, -0.6419836 ,\n",
       "        0.52480414,  4.        , 44.        ,  3.        ])"
      ]
     },
     "execution_count": 28,
     "metadata": {},
     "output_type": "execute_result"
    }
   ],
   "source": [
    "x = pipeline.transform([[\"HP\", 14.0, \"Intel Celeron N4000\", \"NVIDIA GeForce MX150 (2 GB)\", 64.0, 2344.0, 2.5, \"SSD\"]])[0]\n",
    "x"
   ]
  },
  {
   "cell_type": "code",
   "execution_count": 29,
   "metadata": {
    "colab": {
     "base_uri": "https://localhost:8080/",
     "height": 0
    },
    "id": "SnExaJiXcHnu",
    "outputId": "9add3e4e-31ff-4e92-e36f-f596a067ccdb",
    "tags": []
   },
   "outputs": [
    {
     "data": {
      "text/plain": [
       "(203, 19)"
      ]
     },
     "execution_count": 29,
     "metadata": {},
     "output_type": "execute_result"
    }
   ],
   "source": [
    "data_for_recommendation = pipeline.transform(data_for_recommendation.values)\n",
    "data_for_recommendation.shape"
   ]
  },
  {
   "cell_type": "markdown",
   "metadata": {
    "id": "Ob9WqCLnoLuf"
   },
   "source": [
    "Finding the optimal number of clusters using the silhoutter scores."
   ]
  },
  {
   "cell_type": "code",
   "execution_count": 30,
   "metadata": {
    "id": "I2ycnmj4eDSD",
    "tags": []
   },
   "outputs": [
    {
     "data": {
      "text/html": [
       "<div>\n",
       "<style scoped>\n",
       "    .dataframe tbody tr th:only-of-type {\n",
       "        vertical-align: middle;\n",
       "    }\n",
       "\n",
       "    .dataframe tbody tr th {\n",
       "        vertical-align: top;\n",
       "    }\n",
       "\n",
       "    .dataframe thead th {\n",
       "        text-align: right;\n",
       "    }\n",
       "</style>\n",
       "<table border=\"1\" class=\"dataframe\">\n",
       "  <thead>\n",
       "    <tr style=\"text-align: right;\">\n",
       "      <th></th>\n",
       "      <th>Distortions</th>\n",
       "      <th>Inertias</th>\n",
       "    </tr>\n",
       "  </thead>\n",
       "  <tbody>\n",
       "    <tr>\n",
       "      <th>1</th>\n",
       "      <td>14.286775</td>\n",
       "      <td>51225.059113</td>\n",
       "    </tr>\n",
       "    <tr>\n",
       "      <th>2</th>\n",
       "      <td>8.858401</td>\n",
       "      <td>19210.282484</td>\n",
       "    </tr>\n",
       "    <tr>\n",
       "      <th>3</th>\n",
       "      <td>6.572700</td>\n",
       "      <td>10338.340195</td>\n",
       "    </tr>\n",
       "    <tr>\n",
       "      <th>4</th>\n",
       "      <td>5.729373</td>\n",
       "      <td>7482.747795</td>\n",
       "    </tr>\n",
       "    <tr>\n",
       "      <th>5</th>\n",
       "      <td>5.371919</td>\n",
       "      <td>6535.237265</td>\n",
       "    </tr>\n",
       "    <tr>\n",
       "      <th>...</th>\n",
       "      <td>...</td>\n",
       "      <td>...</td>\n",
       "    </tr>\n",
       "    <tr>\n",
       "      <th>95</th>\n",
       "      <td>0.729005</td>\n",
       "      <td>168.243320</td>\n",
       "    </tr>\n",
       "    <tr>\n",
       "      <th>96</th>\n",
       "      <td>0.706962</td>\n",
       "      <td>164.476024</td>\n",
       "    </tr>\n",
       "    <tr>\n",
       "      <th>97</th>\n",
       "      <td>0.700066</td>\n",
       "      <td>160.933668</td>\n",
       "    </tr>\n",
       "    <tr>\n",
       "      <th>98</th>\n",
       "      <td>0.689018</td>\n",
       "      <td>159.978290</td>\n",
       "    </tr>\n",
       "    <tr>\n",
       "      <th>99</th>\n",
       "      <td>0.676428</td>\n",
       "      <td>154.590826</td>\n",
       "    </tr>\n",
       "  </tbody>\n",
       "</table>\n",
       "<p>99 rows × 2 columns</p>\n",
       "</div>"
      ],
      "text/plain": [
       "    Distortions      Inertias\n",
       "1     14.286775  51225.059113\n",
       "2      8.858401  19210.282484\n",
       "3      6.572700  10338.340195\n",
       "4      5.729373   7482.747795\n",
       "5      5.371919   6535.237265\n",
       "..          ...           ...\n",
       "95     0.729005    168.243320\n",
       "96     0.706962    164.476024\n",
       "97     0.700066    160.933668\n",
       "98     0.689018    159.978290\n",
       "99     0.676428    154.590826\n",
       "\n",
       "[99 rows x 2 columns]"
      ]
     },
     "execution_count": 30,
     "metadata": {},
     "output_type": "execute_result"
    }
   ],
   "source": [
    "distortions = []\n",
    "inertias = []\n",
    "mapping1 = {}\n",
    "mapping2 = {}\n",
    "K = range(1, 100)\n",
    "  \n",
    "for k in K:\n",
    "    # Building and fitting the model\n",
    "    kmeanModel = KMeans(n_clusters=k, n_init=\"auto\").fit(data_for_recommendation)\n",
    "    kmeanModel.fit(data_for_recommendation)\n",
    "  \n",
    "    distortion = sum(np.min(cdist(data_for_recommendation, kmeanModel.cluster_centers_,'euclidean'), axis=1)) / data_for_recommendation.shape[0]\n",
    "    distortions.append(distortion)\n",
    "    inertias.append(kmeanModel.inertia_)\n",
    "  \n",
    "    mapping1[k] = distortion\n",
    "    mapping2[k] = kmeanModel.inertia_\n",
    "\n",
    "pd.DataFrame([pd.Series(mapping1, name=\"Distortions\"), pd.Series(mapping2, name=\"Inertias\")]).T"
   ]
  },
  {
   "cell_type": "code",
   "execution_count": 31,
   "metadata": {
    "colab": {
     "base_uri": "https://localhost:8080/",
     "height": 472
    },
    "id": "RvzRZqAAeafa",
    "outputId": "6c41c785-aa34-49d5-8f80-47f0f2beb940",
    "tags": []
   },
   "outputs": [
    {
     "data": {
      "image/png": "[encoded data removed]",
      "text/plain": [
       "<Figure size 640x480 with 1 Axes>"
      ]
     },
     "metadata": {},
     "output_type": "display_data"
    }
   ],
   "source": [
    "sns.lineplot(inertias[:15])\n",
    "plt.xlabel('Values of K')\n",
    "plt.ylabel('Inertia')\n",
    "plt.title('The Elbow Method using Inertia')\n",
    "plt.show()"
   ]
  },
  {
   "cell_type": "code",
   "execution_count": 32,
   "metadata": {
    "id": "hGfW7iapoLuf",
    "tags": []
   },
   "outputs": [],
   "source": [
    "# silhouette_scores = []\n",
    "# for n_clusters in range(2, 9):\n",
    "#     kmeans = KMeans(n_clusters=n_clusters, n_init=\"auto\")\n",
    "#     cluster_labels = kmeans.fit_predict(data_for_recommendation)\n",
    "#     silhouette_scores.append(silhouette_score(data_for_recommendation, cluster_labels))\n",
    "\n",
    "# optimal_n_clusters = silhouette_scores.index(max(silhouette_scores)) + 2\n",
    "# print(f\"The optimal number of clusters is {optimal_n_clusters}\")"
   ]
  },
  {
   "cell_type": "markdown",
   "metadata": {
    "id": "mzHiow4vgLA8"
   },
   "source": [
    "## Adding KMeans model to the pipeline"
   ]
  },
  {
   "cell_type": "code",
   "execution_count": 33,
   "metadata": {
    "colab": {
     "base_uri": "https://localhost:8080/",
     "height": 192
    },
    "id": "zt5KaYypoLuf",
    "outputId": "e18a30c0-ba35-4fd9-b6a4-b754632e2f8f",
    "tags": []
   },
   "outputs": [
    {
     "data": {
      "text/html": [
       "<style>#sk-container-id-4 {color: black;background-color: white;}#sk-container-id-4 pre{padding: 0;}#sk-container-id-4 div.sk-toggleable {background-color: white;}#sk-container-id-4 label.sk-toggleable__label {cursor: pointer;display: block;width: 100%;margin-bottom: 0;padding: 0.3em;box-sizing: border-box;text-align: center;}#sk-container-id-4 label.sk-toggleable__label-arrow:before {content: \"▸\";float: left;margin-right: 0.25em;color: #696969;}#sk-container-id-4 label.sk-toggleable__label-arrow:hover:before {color: black;}#sk-container-id-4 div.sk-estimator:hover label.sk-toggleable__label-arrow:before {color: black;}#sk-container-id-4 div.sk-toggleable__content {max-height: 0;max-width: 0;overflow: hidden;text-align: left;background-color: #f0f8ff;}#sk-container-id-4 div.sk-toggleable__content pre {margin: 0.2em;color: black;border-radius: 0.25em;background-color: #f0f8ff;}#sk-container-id-4 input.sk-toggleable__control:checked~div.sk-toggleable__content {max-height: 200px;max-width: 100%;overflow: auto;}#sk-container-id-4 input.sk-toggleable__control:checked~label.sk-toggleable__label-arrow:before {content: \"▾\";}#sk-container-id-4 div.sk-estimator input.sk-toggleable__control:checked~label.sk-toggleable__label {background-color: #d4ebff;}#sk-container-id-4 div.sk-label input.sk-toggleable__control:checked~label.sk-toggleable__label {background-color: #d4ebff;}#sk-container-id-4 input.sk-hidden--visually {border: 0;clip: rect(1px 1px 1px 1px);clip: rect(1px, 1px, 1px, 1px);height: 1px;margin: -1px;overflow: hidden;padding: 0;position: absolute;width: 1px;}#sk-container-id-4 div.sk-estimator {font-family: monospace;background-color: #f0f8ff;border: 1px dotted black;border-radius: 0.25em;box-sizing: border-box;margin-bottom: 0.5em;}#sk-container-id-4 div.sk-estimator:hover {background-color: #d4ebff;}#sk-container-id-4 div.sk-parallel-item::after {content: \"\";width: 100%;border-bottom: 1px solid gray;flex-grow: 1;}#sk-container-id-4 div.sk-label:hover label.sk-toggleable__label {background-color: #d4ebff;}#sk-container-id-4 div.sk-serial::before {content: \"\";position: absolute;border-left: 1px solid gray;box-sizing: border-box;top: 0;bottom: 0;left: 50%;z-index: 0;}#sk-container-id-4 div.sk-serial {display: flex;flex-direction: column;align-items: center;background-color: white;padding-right: 0.2em;padding-left: 0.2em;position: relative;}#sk-container-id-4 div.sk-item {position: relative;z-index: 1;}#sk-container-id-4 div.sk-parallel {display: flex;align-items: stretch;justify-content: center;background-color: white;position: relative;}#sk-container-id-4 div.sk-item::before, #sk-container-id-4 div.sk-parallel-item::before {content: \"\";position: absolute;border-left: 1px solid gray;box-sizing: border-box;top: 0;bottom: 0;left: 50%;z-index: -1;}#sk-container-id-4 div.sk-parallel-item {display: flex;flex-direction: column;z-index: 1;position: relative;background-color: white;}#sk-container-id-4 div.sk-parallel-item:first-child::after {align-self: flex-end;width: 50%;}#sk-container-id-4 div.sk-parallel-item:last-child::after {align-self: flex-start;width: 50%;}#sk-container-id-4 div.sk-parallel-item:only-child::after {width: 0;}#sk-container-id-4 div.sk-dashed-wrapped {border: 1px dashed gray;margin: 0 0.4em 0.5em 0.4em;box-sizing: border-box;padding-bottom: 0.4em;background-color: white;}#sk-container-id-4 div.sk-label label {font-family: monospace;font-weight: bold;display: inline-block;line-height: 1.2em;}#sk-container-id-4 div.sk-label-container {text-align: center;}#sk-container-id-4 div.sk-container {/* jupyter's `normalize.less` sets `[hidden] { display: none; }` but bootstrap.min.css set `[hidden] { display: none !important; }` so we also need the `!important` here to be able to override the default hidden behavior on the sphinx rendered scikit-learn.org. See: https://github.com/scikit-learn/scikit-learn/issues/21755 */display: inline-block !important;position: relative;}#sk-container-id-4 div.sk-text-repr-fallback {display: none;}</style><div id=\"sk-container-id-4\" class=\"sk-top-container\"><div class=\"sk-text-repr-fallback\"><pre>Pipeline(steps=[(&#x27;tnf1&#x27;,\n",
       "                 ColumnTransformer(remainder=&#x27;passthrough&#x27;,\n",
       "                                   transformers=[(&#x27;one_hot_encoding&#x27;,\n",
       "                                                  OneHotEncoder(dtype=&#x27;int&#x27;,\n",
       "                                                                handle_unknown=&#x27;ignore&#x27;,\n",
       "                                                                sparse_output=False),\n",
       "                                                  [0, 7]),\n",
       "                                                 (&#x27;scaling&#x27;, StandardScaler(),\n",
       "                                                  [1, 5, 6]),\n",
       "                                                 (&#x27;ordinal_encoding&#x27;,\n",
       "                                                  OrdinalEncoder(),\n",
       "                                                  [2, 3, 4])])),\n",
       "                (&#x27;estimator&#x27;, KMeans(n_clusters=3, n_init=&#x27;auto&#x27;))])</pre><b>In a Jupyter environment, please rerun this cell to show the HTML representation or trust the notebook. <br />On GitHub, the HTML representation is unable to render, please try loading this page with nbviewer.org.</b></div><div class=\"sk-container\" hidden><div class=\"sk-item sk-dashed-wrapped\"><div class=\"sk-label-container\"><div class=\"sk-label sk-toggleable\"><input class=\"sk-toggleable__control sk-hidden--visually\" id=\"sk-estimator-id-32\" type=\"checkbox\" ><label for=\"sk-estimator-id-32\" class=\"sk-toggleable__label sk-toggleable__label-arrow\">Pipeline</label><div class=\"sk-toggleable__content\"><pre>Pipeline(steps=[(&#x27;tnf1&#x27;,\n",
       "                 ColumnTransformer(remainder=&#x27;passthrough&#x27;,\n",
       "                                   transformers=[(&#x27;one_hot_encoding&#x27;,\n",
       "                                                  OneHotEncoder(dtype=&#x27;int&#x27;,\n",
       "                                                                handle_unknown=&#x27;ignore&#x27;,\n",
       "                                                                sparse_output=False),\n",
       "                                                  [0, 7]),\n",
       "                                                 (&#x27;scaling&#x27;, StandardScaler(),\n",
       "                                                  [1, 5, 6]),\n",
       "                                                 (&#x27;ordinal_encoding&#x27;,\n",
       "                                                  OrdinalEncoder(),\n",
       "                                                  [2, 3, 4])])),\n",
       "                (&#x27;estimator&#x27;, KMeans(n_clusters=3, n_init=&#x27;auto&#x27;))])</pre></div></div></div><div class=\"sk-serial\"><div class=\"sk-item sk-dashed-wrapped\"><div class=\"sk-label-container\"><div class=\"sk-label sk-toggleable\"><input class=\"sk-toggleable__control sk-hidden--visually\" id=\"sk-estimator-id-33\" type=\"checkbox\" ><label for=\"sk-estimator-id-33\" class=\"sk-toggleable__label sk-toggleable__label-arrow\">tnf1: ColumnTransformer</label><div class=\"sk-toggleable__content\"><pre>ColumnTransformer(remainder=&#x27;passthrough&#x27;,\n",
       "                  transformers=[(&#x27;one_hot_encoding&#x27;,\n",
       "                                 OneHotEncoder(dtype=&#x27;int&#x27;,\n",
       "                                               handle_unknown=&#x27;ignore&#x27;,\n",
       "                                               sparse_output=False),\n",
       "                                 [0, 7]),\n",
       "                                (&#x27;scaling&#x27;, StandardScaler(), [1, 5, 6]),\n",
       "                                (&#x27;ordinal_encoding&#x27;, OrdinalEncoder(),\n",
       "                                 [2, 3, 4])])</pre></div></div></div><div class=\"sk-parallel\"><div class=\"sk-parallel-item\"><div class=\"sk-item\"><div class=\"sk-label-container\"><div class=\"sk-label sk-toggleable\"><input class=\"sk-toggleable__control sk-hidden--visually\" id=\"sk-estimator-id-34\" type=\"checkbox\" ><label for=\"sk-estimator-id-34\" class=\"sk-toggleable__label sk-toggleable__label-arrow\">one_hot_encoding</label><div class=\"sk-toggleable__content\"><pre>[0, 7]</pre></div></div></div><div class=\"sk-serial\"><div class=\"sk-item\"><div class=\"sk-estimator sk-toggleable\"><input class=\"sk-toggleable__control sk-hidden--visually\" id=\"sk-estimator-id-35\" type=\"checkbox\" ><label for=\"sk-estimator-id-35\" class=\"sk-toggleable__label sk-toggleable__label-arrow\">OneHotEncoder</label><div class=\"sk-toggleable__content\"><pre>OneHotEncoder(dtype=&#x27;int&#x27;, handle_unknown=&#x27;ignore&#x27;, sparse_output=False)</pre></div></div></div></div></div></div><div class=\"sk-parallel-item\"><div class=\"sk-item\"><div class=\"sk-label-container\"><div class=\"sk-label sk-toggleable\"><input class=\"sk-toggleable__control sk-hidden--visually\" id=\"sk-estimator-id-36\" type=\"checkbox\" ><label for=\"sk-estimator-id-36\" class=\"sk-toggleable__label sk-toggleable__label-arrow\">scaling</label><div class=\"sk-toggleable__content\"><pre>[1, 5, 6]</pre></div></div></div><div class=\"sk-serial\"><div class=\"sk-item\"><div class=\"sk-estimator sk-toggleable\"><input class=\"sk-toggleable__control sk-hidden--visually\" id=\"sk-estimator-id-37\" type=\"checkbox\" ><label for=\"sk-estimator-id-37\" class=\"sk-toggleable__label sk-toggleable__label-arrow\">StandardScaler</label><div class=\"sk-toggleable__content\"><pre>StandardScaler()</pre></div></div></div></div></div></div><div class=\"sk-parallel-item\"><div class=\"sk-item\"><div class=\"sk-label-container\"><div class=\"sk-label sk-toggleable\"><input class=\"sk-toggleable__control sk-hidden--visually\" id=\"sk-estimator-id-38\" type=\"checkbox\" ><label for=\"sk-estimator-id-38\" class=\"sk-toggleable__label sk-toggleable__label-arrow\">ordinal_encoding</label><div class=\"sk-toggleable__content\"><pre>[2, 3, 4]</pre></div></div></div><div class=\"sk-serial\"><div class=\"sk-item\"><div class=\"sk-estimator sk-toggleable\"><input class=\"sk-toggleable__control sk-hidden--visually\" id=\"sk-estimator-id-39\" type=\"checkbox\" ><label for=\"sk-estimator-id-39\" class=\"sk-toggleable__label sk-toggleable__label-arrow\">OrdinalEncoder</label><div class=\"sk-toggleable__content\"><pre>OrdinalEncoder()</pre></div></div></div></div></div></div><div class=\"sk-parallel-item\"><div class=\"sk-item\"><div class=\"sk-label-container\"><div class=\"sk-label sk-toggleable\"><input class=\"sk-toggleable__control sk-hidden--visually\" id=\"sk-estimator-id-40\" type=\"checkbox\" ><label for=\"sk-estimator-id-40\" class=\"sk-toggleable__label sk-toggleable__label-arrow\">remainder</label><div class=\"sk-toggleable__content\"><pre>[]</pre></div></div></div><div class=\"sk-serial\"><div class=\"sk-item\"><div class=\"sk-estimator sk-toggleable\"><input class=\"sk-toggleable__control sk-hidden--visually\" id=\"sk-estimator-id-41\" type=\"checkbox\" ><label for=\"sk-estimator-id-41\" class=\"sk-toggleable__label sk-toggleable__label-arrow\">passthrough</label><div class=\"sk-toggleable__content\"><pre>passthrough</pre></div></div></div></div></div></div></div></div><div class=\"sk-item\"><div class=\"sk-estimator sk-toggleable\"><input class=\"sk-toggleable__control sk-hidden--visually\" id=\"sk-estimator-id-42\" type=\"checkbox\" ><label for=\"sk-estimator-id-42\" class=\"sk-toggleable__label sk-toggleable__label-arrow\">KMeans</label><div class=\"sk-toggleable__content\"><pre>KMeans(n_clusters=3, n_init=&#x27;auto&#x27;)</pre></div></div></div></div></div></div></div>"
      ],
      "text/plain": [
       "Pipeline(steps=[('tnf1',\n",
       "                 ColumnTransformer(remainder='passthrough',\n",
       "                                   transformers=[('one_hot_encoding',\n",
       "                                                  OneHotEncoder(dtype='int',\n",
       "                                                                handle_unknown='ignore',\n",
       "                                                                sparse_output=False),\n",
       "                                                  [0, 7]),\n",
       "                                                 ('scaling', StandardScaler(),\n",
       "                                                  [1, 5, 6]),\n",
       "                                                 ('ordinal_encoding',\n",
       "                                                  OrdinalEncoder(),\n",
       "                                                  [2, 3, 4])])),\n",
       "                ('estimator', KMeans(n_clusters=3, n_init='auto'))])"
      ]
     },
     "execution_count": 33,
     "metadata": {},
     "output_type": "execute_result"
    }
   ],
   "source": [
    "model = KMeans(n_clusters=3, n_init=\"auto\")\n",
    "model.fit(data_for_recommendation)\n",
    "pipeline.steps.append((\"estimator\", model))\n",
    "pipeline"
   ]
  },
  {
   "cell_type": "code",
   "execution_count": 34,
   "metadata": {
    "colab": {
     "base_uri": "https://localhost:8080/",
     "height": 424
    },
    "id": "iU-iFHoUoLug",
    "outputId": "9e11ed54-1a87-47aa-c23f-a107e39dabf2",
    "tags": []
   },
   "outputs": [
    {
     "data": {
      "text/html": [
       "<div>\n",
       "<style scoped>\n",
       "    .dataframe tbody tr th:only-of-type {\n",
       "        vertical-align: middle;\n",
       "    }\n",
       "\n",
       "    .dataframe tbody tr th {\n",
       "        vertical-align: top;\n",
       "    }\n",
       "\n",
       "    .dataframe thead th {\n",
       "        text-align: right;\n",
       "    }\n",
       "</style>\n",
       "<table border=\"1\" class=\"dataframe\">\n",
       "  <thead>\n",
       "    <tr style=\"text-align: right;\">\n",
       "      <th></th>\n",
       "      <th>brand</th>\n",
       "      <th>img_url</th>\n",
       "      <th>laptop_name</th>\n",
       "      <th>display_size</th>\n",
       "      <th>processor_type</th>\n",
       "      <th>graphics_card</th>\n",
       "      <th>disk_space</th>\n",
       "      <th>discount_price</th>\n",
       "      <th>ratings_5max</th>\n",
       "      <th>disk_type</th>\n",
       "      <th>cluster</th>\n",
       "    </tr>\n",
       "  </thead>\n",
       "  <tbody>\n",
       "    <tr>\n",
       "      <th>0</th>\n",
       "      <td>HP</td>\n",
       "      <td>https://encrypted-tbn0.gstatic.com/images?q=tb...</td>\n",
       "      <td>Notebook 14-df0008nx</td>\n",
       "      <td>14.0</td>\n",
       "      <td>Intel Celeron N4000</td>\n",
       "      <td>Intel HD Graphics 600</td>\n",
       "      <td>64.0</td>\n",
       "      <td>1259.0</td>\n",
       "      <td>0.0</td>\n",
       "      <td>eMMC</td>\n",
       "      <td>1</td>\n",
       "    </tr>\n",
       "    <tr>\n",
       "      <th>1</th>\n",
       "      <td>Lenovo</td>\n",
       "      <td>https://encrypted-tbn0.gstatic.com/images?q=tb...</td>\n",
       "      <td>IdeaPad 330S-14IKB</td>\n",
       "      <td>14.0</td>\n",
       "      <td>Intel Core i5-8250U</td>\n",
       "      <td>Intel UHD Graphics 620</td>\n",
       "      <td>1024.0</td>\n",
       "      <td>1849.0</td>\n",
       "      <td>3.3</td>\n",
       "      <td>HDD</td>\n",
       "      <td>0</td>\n",
       "    </tr>\n",
       "    <tr>\n",
       "      <th>2</th>\n",
       "      <td>Huawei</td>\n",
       "      <td>https://encrypted-tbn0.gstatic.com/images?q=tb...</td>\n",
       "      <td>MateBook D Volta</td>\n",
       "      <td>14.0</td>\n",
       "      <td>Intel Core i5-8250U</td>\n",
       "      <td>NVIDIA GeForce MX150 (2 GB)</td>\n",
       "      <td>256.0</td>\n",
       "      <td>2999.0</td>\n",
       "      <td>0.0</td>\n",
       "      <td>SSD</td>\n",
       "      <td>2</td>\n",
       "    </tr>\n",
       "    <tr>\n",
       "      <th>3</th>\n",
       "      <td>Dell</td>\n",
       "      <td>https://encrypted-tbn0.gstatic.com/images?q=tb...</td>\n",
       "      <td>Inspiron 15 3567</td>\n",
       "      <td>15.6</td>\n",
       "      <td>Intel Core i3-7020U</td>\n",
       "      <td>Intel HD Graphics 620</td>\n",
       "      <td>1024.0</td>\n",
       "      <td>1849.0</td>\n",
       "      <td>0.0</td>\n",
       "      <td>HDD</td>\n",
       "      <td>0</td>\n",
       "    </tr>\n",
       "    <tr>\n",
       "      <th>4</th>\n",
       "      <td>Asus</td>\n",
       "      <td>https://encrypted-tbn0.gstatic.com/images?q=tb...</td>\n",
       "      <td>VivoBook 15 X510UR</td>\n",
       "      <td>15.6</td>\n",
       "      <td>Intel Core i7-8550U</td>\n",
       "      <td>NVIDIA GeForce 930MX (2 GB)</td>\n",
       "      <td>1024.0</td>\n",
       "      <td>2499.0</td>\n",
       "      <td>0.0</td>\n",
       "      <td>HDD</td>\n",
       "      <td>0</td>\n",
       "    </tr>\n",
       "  </tbody>\n",
       "</table>\n",
       "</div>"
      ],
      "text/plain": [
       "    brand                                            img_url   \n",
       "0      HP  https://encrypted-tbn0.gstatic.com/images?q=tb...  \\\n",
       "1  Lenovo  https://encrypted-tbn0.gstatic.com/images?q=tb...   \n",
       "2  Huawei  https://encrypted-tbn0.gstatic.com/images?q=tb...   \n",
       "3    Dell  https://encrypted-tbn0.gstatic.com/images?q=tb...   \n",
       "4    Asus  https://encrypted-tbn0.gstatic.com/images?q=tb...   \n",
       "\n",
       "            laptop_name  display_size       processor_type   \n",
       "0  Notebook 14-df0008nx          14.0  Intel Celeron N4000  \\\n",
       "1    IdeaPad 330S-14IKB          14.0  Intel Core i5-8250U   \n",
       "2      MateBook D Volta          14.0  Intel Core i5-8250U   \n",
       "3      Inspiron 15 3567          15.6  Intel Core i3-7020U   \n",
       "4    VivoBook 15 X510UR          15.6  Intel Core i7-8550U   \n",
       "\n",
       "                 graphics_card  disk_space  discount_price  ratings_5max   \n",
       "0        Intel HD Graphics 600        64.0          1259.0           0.0  \\\n",
       "1       Intel UHD Graphics 620      1024.0          1849.0           3.3   \n",
       "2  NVIDIA GeForce MX150 (2 GB)       256.0          2999.0           0.0   \n",
       "3        Intel HD Graphics 620      1024.0          1849.0           0.0   \n",
       "4  NVIDIA GeForce 930MX (2 GB)      1024.0          2499.0           0.0   \n",
       "\n",
       "  disk_type  cluster  \n",
       "0      eMMC        1  \n",
       "1       HDD        0  \n",
       "2       SSD        2  \n",
       "3       HDD        0  \n",
       "4       HDD        0  "
      ]
     },
     "execution_count": 34,
     "metadata": {},
     "output_type": "execute_result"
    }
   ],
   "source": [
    "data_for_recommendation = data.drop([\"img_url\", \"laptop_name\"], axis=1)\n",
    "data[\"cluster\"] = pipeline.predict(data_for_recommendation.values)\n",
    "data.head()"
   ]
  },
  {
   "cell_type": "code",
   "execution_count": 35,
   "metadata": {
    "colab": {
     "base_uri": "https://localhost:8080/",
     "height": 370
    },
    "id": "PoO1jcqeoLug",
    "outputId": "5a9822c8-871f-4bbd-f725-f5bb06dd3531",
    "tags": []
   },
   "outputs": [
    {
     "data": {
      "image/png": "[encoded data removed]",
      "text/plain": [
       "<Figure size 2000x500 with 1 Axes>"
      ]
     },
     "metadata": {},
     "output_type": "display_data"
    }
   ],
   "source": [
    "plt.figure(figsize=(20,5))\n",
    "plt.scatter(x=data['discount_price'],y=data['ratings_5max'],c=data['cluster'])\n",
    "plt.xlabel(\"Price of the Laptop\")\n",
    "plt.ylabel(\"Ratings of the Laptop\")\n",
    "plt.title(\"Clustering of Laptops\")\n",
    "plt.show()"
   ]
  },
  {
   "cell_type": "markdown",
   "metadata": {
    "id": "8J9OP_5VoLug"
   },
   "source": [
    "### Recommending the laptop based on user preferences.\n",
    "For example : if user prefers's a laptop with a 14 inch screen size, an above 3-star rating and disk space of atleast 32GB.\n",
    "\n",
    "Creating a user preference dataframe."
   ]
  },
  {
   "cell_type": "code",
   "execution_count": 36,
   "metadata": {
    "colab": {
     "base_uri": "https://localhost:8080/",
     "height": 81
    },
    "id": "Dre_H24BoLug",
    "outputId": "aa7a6a0d-4e88-4c60-c842-133f77ee06a6",
    "tags": []
   },
   "outputs": [
    {
     "data": {
      "text/html": [
       "<div>\n",
       "<style scoped>\n",
       "    .dataframe tbody tr th:only-of-type {\n",
       "        vertical-align: middle;\n",
       "    }\n",
       "\n",
       "    .dataframe tbody tr th {\n",
       "        vertical-align: top;\n",
       "    }\n",
       "\n",
       "    .dataframe thead th {\n",
       "        text-align: right;\n",
       "    }\n",
       "</style>\n",
       "<table border=\"1\" class=\"dataframe\">\n",
       "  <thead>\n",
       "    <tr style=\"text-align: right;\">\n",
       "      <th></th>\n",
       "      <th>brand</th>\n",
       "      <th>display_size</th>\n",
       "      <th>processor_type</th>\n",
       "      <th>graphics_card</th>\n",
       "      <th>disk_space</th>\n",
       "      <th>discount_price</th>\n",
       "      <th>ratings_5max</th>\n",
       "      <th>disk_type</th>\n",
       "    </tr>\n",
       "  </thead>\n",
       "  <tbody>\n",
       "    <tr>\n",
       "      <th>0</th>\n",
       "      <td>HP</td>\n",
       "      <td>15.6</td>\n",
       "      <td>Intel Celeron N4000</td>\n",
       "      <td>Intel HD Graphics 600</td>\n",
       "      <td>1024.0</td>\n",
       "      <td>2000.0</td>\n",
       "      <td>4.0</td>\n",
       "      <td>eMMC</td>\n",
       "    </tr>\n",
       "  </tbody>\n",
       "</table>\n",
       "</div>"
      ],
      "text/plain": [
       "  brand  display_size       processor_type          graphics_card  disk_space   \n",
       "0    HP          15.6  Intel Celeron N4000  Intel HD Graphics 600      1024.0  \\\n",
       "\n",
       "   discount_price  ratings_5max disk_type  \n",
       "0          2000.0           4.0      eMMC  "
      ]
     },
     "execution_count": 36,
     "metadata": {},
     "output_type": "execute_result"
    }
   ],
   "source": [
    "user_pref = pd.DataFrame({\n",
    "    \"brand\": [\"HP\"],\n",
    "    \"display_size\": [15.6],\n",
    "    \"processor_type\": [\"Intel Celeron N4000\"],\n",
    "    \"graphics_card\": [\"Intel HD Graphics 600\"],\n",
    "    \"disk_space\": [1024.0],\n",
    "    \"discount_price\": [2000.0],\n",
    "    \"ratings_5max\": [4.0],\n",
    "    \"disk_type\": [\"eMMC\"]\n",
    "})\n",
    "\n",
    "user_pref"
   ]
  },
  {
   "cell_type": "markdown",
   "metadata": {
    "id": "h06OCNcboLug"
   },
   "source": [
    "### Predicting the cluster the user's preferences belongs to"
   ]
  },
  {
   "cell_type": "code",
   "execution_count": 37,
   "metadata": {
    "colab": {
     "base_uri": "https://localhost:8080/",
     "height": 0
    },
    "id": "9vd0H0vdoLug",
    "outputId": "8d6319ed-790a-4db5-b1cb-17c7aa6ad013",
    "tags": []
   },
   "outputs": [
    {
     "data": {
      "text/plain": [
       "1"
      ]
     },
     "execution_count": 37,
     "metadata": {},
     "output_type": "execute_result"
    }
   ],
   "source": [
    "cluster = pipeline.predict(user_pref.values)[0]\n",
    "cluster"
   ]
  },
  {
   "cell_type": "markdown",
   "metadata": {
    "id": "rLO6X6OgoLug"
   },
   "source": [
    "### Recommending the laptops based on user's preference."
   ]
  },
  {
   "cell_type": "code",
   "execution_count": 38,
   "metadata": {
    "colab": {
     "base_uri": "https://localhost:8080/",
     "height": 424
    },
    "id": "HWkDSw3toLug",
    "outputId": "ad4863af-5da8-478b-fd0f-259325017abb",
    "tags": []
   },
   "outputs": [
    {
     "data": {
      "text/html": [
       "<div>\n",
       "<style scoped>\n",
       "    .dataframe tbody tr th:only-of-type {\n",
       "        vertical-align: middle;\n",
       "    }\n",
       "\n",
       "    .dataframe tbody tr th {\n",
       "        vertical-align: top;\n",
       "    }\n",
       "\n",
       "    .dataframe thead th {\n",
       "        text-align: right;\n",
       "    }\n",
       "</style>\n",
       "<table border=\"1\" class=\"dataframe\">\n",
       "  <thead>\n",
       "    <tr style=\"text-align: right;\">\n",
       "      <th></th>\n",
       "      <th>brand</th>\n",
       "      <th>img_url</th>\n",
       "      <th>laptop_name</th>\n",
       "      <th>display_size</th>\n",
       "      <th>processor_type</th>\n",
       "      <th>graphics_card</th>\n",
       "      <th>disk_space</th>\n",
       "      <th>discount_price</th>\n",
       "      <th>ratings_5max</th>\n",
       "      <th>disk_type</th>\n",
       "      <th>cluster</th>\n",
       "    </tr>\n",
       "  </thead>\n",
       "  <tbody>\n",
       "    <tr>\n",
       "      <th>0</th>\n",
       "      <td>HP</td>\n",
       "      <td>https://encrypted-tbn0.gstatic.com/images?q=tb...</td>\n",
       "      <td>Notebook 14-df0008nx</td>\n",
       "      <td>14.0</td>\n",
       "      <td>Intel Celeron N4000</td>\n",
       "      <td>Intel HD Graphics 600</td>\n",
       "      <td>64.0</td>\n",
       "      <td>1259.0</td>\n",
       "      <td>0.0</td>\n",
       "      <td>eMMC</td>\n",
       "      <td>1</td>\n",
       "    </tr>\n",
       "    <tr>\n",
       "      <th>5</th>\n",
       "      <td>Dell</td>\n",
       "      <td>https://encrypted-tbn0.gstatic.com/images?q=tb...</td>\n",
       "      <td>Vostro 5471</td>\n",
       "      <td>14.0</td>\n",
       "      <td>Intel Core i7-8550U</td>\n",
       "      <td>AMD Radeon 530 (4 GB)</td>\n",
       "      <td>128.0</td>\n",
       "      <td>3799.0</td>\n",
       "      <td>3.8</td>\n",
       "      <td>HDD</td>\n",
       "      <td>1</td>\n",
       "    </tr>\n",
       "    <tr>\n",
       "      <th>9</th>\n",
       "      <td>HP</td>\n",
       "      <td>https://encrypted-tbn0.gstatic.com/images?q=tb...</td>\n",
       "      <td>14-cf0007nx</td>\n",
       "      <td>14.0</td>\n",
       "      <td>Intel Core i5-8250U</td>\n",
       "      <td>AMD Radeon 530 (2 GB)</td>\n",
       "      <td>16.0</td>\n",
       "      <td>2629.0</td>\n",
       "      <td>0.0</td>\n",
       "      <td>HDD</td>\n",
       "      <td>1</td>\n",
       "    </tr>\n",
       "    <tr>\n",
       "      <th>10</th>\n",
       "      <td>HP</td>\n",
       "      <td>https://encrypted-tbn0.gstatic.com/images?q=tb...</td>\n",
       "      <td>15-db0001nx</td>\n",
       "      <td>15.6</td>\n",
       "      <td>AMD A9-9425</td>\n",
       "      <td>AMD Radeon R5</td>\n",
       "      <td>1024.0</td>\n",
       "      <td>1999.0</td>\n",
       "      <td>0.0</td>\n",
       "      <td>HDD</td>\n",
       "      <td>1</td>\n",
       "    </tr>\n",
       "    <tr>\n",
       "      <th>11</th>\n",
       "      <td>Acer</td>\n",
       "      <td>https://encrypted-tbn0.gstatic.com/images?q=tb...</td>\n",
       "      <td>Swift 5</td>\n",
       "      <td>14.0</td>\n",
       "      <td>Intel Core i7-8565U</td>\n",
       "      <td>Intel GMA HD</td>\n",
       "      <td>512.0</td>\n",
       "      <td>4499.0</td>\n",
       "      <td>0.0</td>\n",
       "      <td>SSD</td>\n",
       "      <td>1</td>\n",
       "    </tr>\n",
       "  </tbody>\n",
       "</table>\n",
       "</div>"
      ],
      "text/plain": [
       "   brand                                            img_url   \n",
       "0     HP  https://encrypted-tbn0.gstatic.com/images?q=tb...  \\\n",
       "5   Dell  https://encrypted-tbn0.gstatic.com/images?q=tb...   \n",
       "9     HP  https://encrypted-tbn0.gstatic.com/images?q=tb...   \n",
       "10    HP  https://encrypted-tbn0.gstatic.com/images?q=tb...   \n",
       "11  Acer  https://encrypted-tbn0.gstatic.com/images?q=tb...   \n",
       "\n",
       "             laptop_name  display_size       processor_type   \n",
       "0   Notebook 14-df0008nx          14.0  Intel Celeron N4000  \\\n",
       "5            Vostro 5471          14.0  Intel Core i7-8550U   \n",
       "9            14-cf0007nx          14.0  Intel Core i5-8250U   \n",
       "10           15-db0001nx          15.6          AMD A9-9425   \n",
       "11               Swift 5          14.0  Intel Core i7-8565U   \n",
       "\n",
       "            graphics_card  disk_space  discount_price  ratings_5max disk_type   \n",
       "0   Intel HD Graphics 600        64.0          1259.0           0.0      eMMC  \\\n",
       "5   AMD Radeon 530 (4 GB)       128.0          3799.0           3.8       HDD   \n",
       "9   AMD Radeon 530 (2 GB)        16.0          2629.0           0.0       HDD   \n",
       "10          AMD Radeon R5      1024.0          1999.0           0.0       HDD   \n",
       "11           Intel GMA HD       512.0          4499.0           0.0       SSD   \n",
       "\n",
       "    cluster  \n",
       "0         1  \n",
       "5         1  \n",
       "9         1  \n",
       "10        1  \n",
       "11        1  "
      ]
     },
     "execution_count": 38,
     "metadata": {},
     "output_type": "execute_result"
    }
   ],
   "source": [
    "recommended_laptops = data[data['cluster'] == cluster]\n",
    "recommended_laptops.head()"
   ]
  },
  {
   "cell_type": "markdown",
   "metadata": {
    "id": "C3Yke-BRlZ2G",
    "jp-MarkdownHeadingCollapsed": true,
    "tags": []
   },
   "source": [
    "# Making the Recommender Class"
   ]
  },
  {
   "cell_type": "code",
   "execution_count": 7,
   "metadata": {
    "tags": []
   },
   "outputs": [
    {
     "data": {
      "text/html": [
       "<div>\n",
       "<style scoped>\n",
       "    .dataframe tbody tr th:only-of-type {\n",
       "        vertical-align: middle;\n",
       "    }\n",
       "\n",
       "    .dataframe tbody tr th {\n",
       "        vertical-align: top;\n",
       "    }\n",
       "\n",
       "    .dataframe thead th {\n",
       "        text-align: right;\n",
       "    }\n",
       "</style>\n",
       "<table border=\"1\" class=\"dataframe\">\n",
       "  <thead>\n",
       "    <tr style=\"text-align: right;\">\n",
       "      <th></th>\n",
       "      <th>brand</th>\n",
       "      <th>display_size</th>\n",
       "      <th>processor_type</th>\n",
       "      <th>graphics_card</th>\n",
       "      <th>disk_space</th>\n",
       "      <th>discount_price</th>\n",
       "      <th>ratings_5max</th>\n",
       "      <th>disk_type</th>\n",
       "    </tr>\n",
       "  </thead>\n",
       "  <tbody>\n",
       "    <tr>\n",
       "      <th>0</th>\n",
       "      <td>HP</td>\n",
       "      <td>14.0</td>\n",
       "      <td>Intel Celeron N4000</td>\n",
       "      <td>Intel HD Graphics 600</td>\n",
       "      <td>64.0</td>\n",
       "      <td>1259.0</td>\n",
       "      <td>0.0</td>\n",
       "      <td>eMMC</td>\n",
       "    </tr>\n",
       "    <tr>\n",
       "      <th>1</th>\n",
       "      <td>Lenovo</td>\n",
       "      <td>14.0</td>\n",
       "      <td>Intel Core i5-8250U</td>\n",
       "      <td>Intel UHD Graphics 620</td>\n",
       "      <td>1024.0</td>\n",
       "      <td>1849.0</td>\n",
       "      <td>3.3</td>\n",
       "      <td>HDD</td>\n",
       "    </tr>\n",
       "    <tr>\n",
       "      <th>2</th>\n",
       "      <td>Huawei</td>\n",
       "      <td>14.0</td>\n",
       "      <td>Intel Core i5-8250U</td>\n",
       "      <td>NVIDIA GeForce MX150 (2 GB)</td>\n",
       "      <td>256.0</td>\n",
       "      <td>2999.0</td>\n",
       "      <td>0.0</td>\n",
       "      <td>SSD</td>\n",
       "    </tr>\n",
       "    <tr>\n",
       "      <th>3</th>\n",
       "      <td>Dell</td>\n",
       "      <td>15.6</td>\n",
       "      <td>Intel Core i3-7020U</td>\n",
       "      <td>Intel HD Graphics 620</td>\n",
       "      <td>1024.0</td>\n",
       "      <td>1849.0</td>\n",
       "      <td>0.0</td>\n",
       "      <td>HDD</td>\n",
       "    </tr>\n",
       "    <tr>\n",
       "      <th>4</th>\n",
       "      <td>Asus</td>\n",
       "      <td>15.6</td>\n",
       "      <td>Intel Core i7-8550U</td>\n",
       "      <td>NVIDIA GeForce 930MX (2 GB)</td>\n",
       "      <td>1024.0</td>\n",
       "      <td>2499.0</td>\n",
       "      <td>0.0</td>\n",
       "      <td>HDD</td>\n",
       "    </tr>\n",
       "  </tbody>\n",
       "</table>\n",
       "</div>"
      ],
      "text/plain": [
       "    brand  display_size       processor_type                graphics_card   \n",
       "0      HP          14.0  Intel Celeron N4000        Intel HD Graphics 600  \\\n",
       "1  Lenovo          14.0  Intel Core i5-8250U       Intel UHD Graphics 620   \n",
       "2  Huawei          14.0  Intel Core i5-8250U  NVIDIA GeForce MX150 (2 GB)   \n",
       "3    Dell          15.6  Intel Core i3-7020U        Intel HD Graphics 620   \n",
       "4    Asus          15.6  Intel Core i7-8550U  NVIDIA GeForce 930MX (2 GB)   \n",
       "\n",
       "   disk_space  discount_price  ratings_5max disk_type  \n",
       "0        64.0          1259.0           0.0      eMMC  \n",
       "1      1024.0          1849.0           3.3       HDD  \n",
       "2       256.0          2999.0           0.0       SSD  \n",
       "3      1024.0          1849.0           0.0       HDD  \n",
       "4      1024.0          2499.0           0.0       HDD  "
      ]
     },
     "execution_count": 7,
     "metadata": {},
     "output_type": "execute_result"
    }
   ],
   "source": [
    "data.drop([\"img_url\", \"laptop_name\"], axis=1).head()"
   ]
  },
  {
   "cell_type": "code",
   "execution_count": 13,
   "metadata": {
    "colab": {
     "base_uri": "https://localhost:8080/",
     "height": 444
    },
    "id": "VmfRI9AtoLuh",
    "outputId": "2f92316b-0623-4a0d-ec04-4af60ef7e6b3",
    "tags": []
   },
   "outputs": [
    {
     "data": {
      "text/html": [
       "<div>\n",
       "<style scoped>\n",
       "    .dataframe tbody tr th:only-of-type {\n",
       "        vertical-align: middle;\n",
       "    }\n",
       "\n",
       "    .dataframe tbody tr th {\n",
       "        vertical-align: top;\n",
       "    }\n",
       "\n",
       "    .dataframe thead th {\n",
       "        text-align: right;\n",
       "    }\n",
       "</style>\n",
       "<table border=\"1\" class=\"dataframe\">\n",
       "  <thead>\n",
       "    <tr style=\"text-align: right;\">\n",
       "      <th></th>\n",
       "      <th>brand</th>\n",
       "      <th>img_url</th>\n",
       "      <th>laptop_name</th>\n",
       "      <th>display_size</th>\n",
       "      <th>processor_type</th>\n",
       "      <th>graphics_card</th>\n",
       "      <th>disk_space</th>\n",
       "      <th>discount_price</th>\n",
       "      <th>ratings_5max</th>\n",
       "      <th>disk_type</th>\n",
       "      <th>clusters</th>\n",
       "    </tr>\n",
       "  </thead>\n",
       "  <tbody>\n",
       "    <tr>\n",
       "      <th>1</th>\n",
       "      <td>Lenovo</td>\n",
       "      <td>https://encrypted-tbn0.gstatic.com/images?q=tb...</td>\n",
       "      <td>IdeaPad 330S-14IKB</td>\n",
       "      <td>14.0</td>\n",
       "      <td>Intel Core i5-8250U</td>\n",
       "      <td>Intel UHD Graphics 620</td>\n",
       "      <td>1024.0</td>\n",
       "      <td>1849.0</td>\n",
       "      <td>3.3</td>\n",
       "      <td>HDD</td>\n",
       "      <td>2</td>\n",
       "    </tr>\n",
       "    <tr>\n",
       "      <th>3</th>\n",
       "      <td>Dell</td>\n",
       "      <td>https://encrypted-tbn0.gstatic.com/images?q=tb...</td>\n",
       "      <td>Inspiron 15 3567</td>\n",
       "      <td>15.6</td>\n",
       "      <td>Intel Core i3-7020U</td>\n",
       "      <td>Intel HD Graphics 620</td>\n",
       "      <td>1024.0</td>\n",
       "      <td>1849.0</td>\n",
       "      <td>0.0</td>\n",
       "      <td>HDD</td>\n",
       "      <td>2</td>\n",
       "    </tr>\n",
       "    <tr>\n",
       "      <th>4</th>\n",
       "      <td>Asus</td>\n",
       "      <td>https://encrypted-tbn0.gstatic.com/images?q=tb...</td>\n",
       "      <td>VivoBook 15 X510UR</td>\n",
       "      <td>15.6</td>\n",
       "      <td>Intel Core i7-8550U</td>\n",
       "      <td>NVIDIA GeForce 930MX (2 GB)</td>\n",
       "      <td>1024.0</td>\n",
       "      <td>2499.0</td>\n",
       "      <td>0.0</td>\n",
       "      <td>HDD</td>\n",
       "      <td>2</td>\n",
       "    </tr>\n",
       "    <tr>\n",
       "      <th>10</th>\n",
       "      <td>HP</td>\n",
       "      <td>https://encrypted-tbn0.gstatic.com/images?q=tb...</td>\n",
       "      <td>15-db0001nx</td>\n",
       "      <td>15.6</td>\n",
       "      <td>AMD A9-9425</td>\n",
       "      <td>AMD Radeon R5</td>\n",
       "      <td>1024.0</td>\n",
       "      <td>1999.0</td>\n",
       "      <td>0.0</td>\n",
       "      <td>HDD</td>\n",
       "      <td>2</td>\n",
       "    </tr>\n",
       "    <tr>\n",
       "      <th>33</th>\n",
       "      <td>Asus</td>\n",
       "      <td>https://encrypted-tbn0.gstatic.com/images?q=tb...</td>\n",
       "      <td>X543UB</td>\n",
       "      <td>15.6</td>\n",
       "      <td>Intel Core i7-8550U</td>\n",
       "      <td>NVIDIA GeForce MX110 (2 GB)</td>\n",
       "      <td>1024.0</td>\n",
       "      <td>2499.0</td>\n",
       "      <td>0.0</td>\n",
       "      <td>HDD</td>\n",
       "      <td>2</td>\n",
       "    </tr>\n",
       "  </tbody>\n",
       "</table>\n",
       "</div>"
      ],
      "text/plain": [
       "     brand                                            img_url   \n",
       "1   Lenovo  https://encrypted-tbn0.gstatic.com/images?q=tb...  \\\n",
       "3     Dell  https://encrypted-tbn0.gstatic.com/images?q=tb...   \n",
       "4     Asus  https://encrypted-tbn0.gstatic.com/images?q=tb...   \n",
       "10      HP  https://encrypted-tbn0.gstatic.com/images?q=tb...   \n",
       "33    Asus  https://encrypted-tbn0.gstatic.com/images?q=tb...   \n",
       "\n",
       "           laptop_name  display_size       processor_type   \n",
       "1   IdeaPad 330S-14IKB          14.0  Intel Core i5-8250U  \\\n",
       "3     Inspiron 15 3567          15.6  Intel Core i3-7020U   \n",
       "4   VivoBook 15 X510UR          15.6  Intel Core i7-8550U   \n",
       "10         15-db0001nx          15.6          AMD A9-9425   \n",
       "33              X543UB          15.6  Intel Core i7-8550U   \n",
       "\n",
       "                  graphics_card  disk_space  discount_price  ratings_5max   \n",
       "1        Intel UHD Graphics 620      1024.0          1849.0           3.3  \\\n",
       "3         Intel HD Graphics 620      1024.0          1849.0           0.0   \n",
       "4   NVIDIA GeForce 930MX (2 GB)      1024.0          2499.0           0.0   \n",
       "10                AMD Radeon R5      1024.0          1999.0           0.0   \n",
       "33  NVIDIA GeForce MX110 (2 GB)      1024.0          2499.0           0.0   \n",
       "\n",
       "   disk_type  clusters  \n",
       "1        HDD         2  \n",
       "3        HDD         2  \n",
       "4        HDD         2  \n",
       "10       HDD         2  \n",
       "33       HDD         2  "
      ]
     },
     "execution_count": 13,
     "metadata": {},
     "output_type": "execute_result"
    }
   ],
   "source": [
    "class Recommender(Pipeline):\n",
    "  def __init__(self, data, ignore_cols, steps):\n",
    "    self.data = data               # copy of the entire data\n",
    "    self.ignore_cols = ignore_cols # columns to ignore during fit process\n",
    "    super().__init__(steps)        # creating pipeline\n",
    "\n",
    "    # fit after dropping the ignore_cols\n",
    "  def fit(self, X=None, y=None, **fit_params):\n",
    "    data_fr = self.drop_cols().values\n",
    "    return super().fit(data_fr)\n",
    "  \n",
    "    # return data after dropping ignore_cols\n",
    "  def drop_cols(self):\n",
    "    cols = self.ignore_cols.copy()\n",
    "    return self.data.drop(cols, axis=1)\n",
    "\n",
    "    # Predict clusters and add it as \"clusters\" column in the data\n",
    "    # return the new data\n",
    "  def make_clusters(self):\n",
    "    self.data[\"clusters\"] = self.predict(self.drop_cols().values)\n",
    "    return self.data\n",
    "  \n",
    "    # get the cluster a user's data belongs to\n",
    "  def get_cluster(self, user_pref):\n",
    "    return super().predict(user_pref.values)[0]\n",
    "  \n",
    "    # get 'k' recommendations based on user's data\n",
    "  def get_k_recommendations(self, user_pref, k=5):\n",
    "    cluster = self.get_cluster(user_pref)\n",
    "    return self.data[self.data[\"clusters\"] == cluster].head(k)\n",
    "\n",
    "# dummy data\n",
    "user_pref = pd.DataFrame({\n",
    "    \"brand\": [\"HP\"],\n",
    "    \"display_size\": [15.6],\n",
    "    \"processor_type\": [\"Intel Celeron N4000\"],\n",
    "    \"graphics_card\": [\"Intel HD Graphics 600\"],\n",
    "    \"disk_space\": [1024.0],\n",
    "    \"discount_price\": [2000.0],\n",
    "    \"ratings_5max\": [4.0],\n",
    "    \"disk_type\": [\"eMMC\"]\n",
    "})\n",
    "\n",
    "preprocessor = ColumnTransformer([    \n",
    "    (\"one_hot_encoding\", OneHotEncoder(dtype=\"int\", sparse_output=False, handle_unknown=\"ignore\"), [0,2,3,7]),\n",
    "    (\"scaling\", StandardScaler(), [1, 5, 6]),\n",
    "    (\"ordinal_encoding\", OrdinalEncoder(), [4])\n",
    "], remainder=\"passthrough\")\n",
    "\n",
    "model = KMeans(n_clusters=3, n_init=\"auto\")\n",
    "recommender = Recommender(data.copy(), [\"img_url\", \"laptop_name\"], [\n",
    "    (\"preprocessing\", preprocessor),\n",
    "    (\"model\", model)\n",
    "])\n",
    "\n",
    "recommender.fit()\n",
    "recommender.make_clusters().head()\n",
    "recommender.get_k_recommendations(user_pref)"
   ]
  },
  {
   "cell_type": "markdown",
   "metadata": {},
   "source": [
    "# Saving the Recommender model"
   ]
  },
  {
   "cell_type": "code",
   "execution_count": 21,
   "metadata": {
    "colab": {
     "base_uri": "https://localhost:8080/"
    },
    "id": "J_ybCID8r0aZ",
    "outputId": "eac5f943-ef5f-4abf-ce89-861368b3ad04",
    "tags": []
   },
   "outputs": [
    {
     "data": {
      "text/plain": [
       "['../api/models/model.obj']"
      ]
     },
     "execution_count": 21,
     "metadata": {},
     "output_type": "execute_result"
    }
   ],
   "source": [
    "joblib.dump(recommender, \"../api/models/model.obj\")"
   ]
  }
 ],
 "metadata": {
  "colab": {
   "provenance": []
  },
  "kernelspec": {
   "display_name": "Python 3 (ipykernel)",
   "language": "python",
   "name": "python3"
  },
  "language_info": {
   "codemirror_mode": {
    "name": "ipython",
    "version": 3
   },
   "file_extension": ".py",
   "mimetype": "text/x-python",
   "name": "python",
   "nbconvert_exporter": "python",
   "pygments_lexer": "ipython3",
   "version": "3.10.10"
  }
 },
 "nbformat": 4,
 "nbformat_minor": 4
}
